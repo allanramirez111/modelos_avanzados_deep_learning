{
 "cells": [
  {
   "cell_type": "markdown",
   "metadata": {},
   "source": [
    "# Taller 4. Redes densamente conectadas para problemas de clasificación y de regresión\n",
    "\n",
    "Nombres: Manuel Sanchez y Allan Ramirez"
   ]
  },
  {
   "cell_type": "markdown",
   "metadata": {},
   "source": [
    "# Parte I (50 ptos)\n",
    "En este ejercicio utilizaremos la base de datos de IMDB (Internet Movie Database). Este\n",
    "dataset contiene 50 mil reseñas de pelıculas divididas en un conjunto de entrenamiento y un\n",
    "conjunto de prueba (ambos con 25 mil reseñas). Cada conjunto está dividido respectivamente\n",
    "en reseñas positivas (50%) y reseñas negativas (50%).\n",
    "Para cargar el dataset use:"
   ]
  },
  {
   "cell_type": "code",
   "execution_count": 1,
   "metadata": {},
   "outputs": [
    {
     "name": "stdout",
     "output_type": "stream",
     "text": [
      "Downloading data from https://storage.googleapis.com/tensorflow/tf-keras-datasets/imdb.npz\n",
      "\u001b[1m17464789/17464789\u001b[0m \u001b[32m━━━━━━━━━━━━━━━━━━━━\u001b[0m\u001b[37m\u001b[0m \u001b[1m1s\u001b[0m 0us/step\n"
     ]
    }
   ],
   "source": [
    "from tensorflow . keras . datasets import imdb\n",
    "(train_data , train_labels) , (test_data , test_labels)= imdb . load_data (num_words =10000)"
   ]
  },
  {
   "cell_type": "markdown",
   "metadata": {},
   "source": [
    "El argumento num words determina el número de palabras del conjunto de entrenamiento (organizadas por frecuencia) que se van a utilizar para su modelo. En otras palabras, palabras usadas poco en las reseñas (más allá del puesto diez mil) no se utilizarán en su entrenamiento."
   ]
  },
  {
   "cell_type": "markdown",
   "metadata": {},
   "source": [
    "### 1. (10 ptos) \n",
    "Investigue qué representan las matrices/vectores cargados y sus posibles valores. Analice de forma preliminar sus datos (ocurrencias y distribuciones). Para esto puede ser útil extraer las palabras de los datos codificados de entrenamiento y prueba. Para esto puede usar el diccionario word index:\n"
   ]
  },
  {
   "cell_type": "code",
   "execution_count": null,
   "metadata": {},
   "outputs": [],
   "source": [
    "word_index = imdb . get_word_index ()\n",
    "reverse_word_index = dict ([( value , key ) for ( key , value ) in word_index . items\n",
    "() ])\n",
    "decoded_review = \" \". join ([ reverse_word_index . get ( i - 3, \"?\") for i in\n",
    "train_data [0]])"
   ]
  },
  {
   "cell_type": "markdown",
   "metadata": {},
   "source": [
    "Como podrá ver, este código devuelve las palabras de la primera reseña del conjunto de entrenamiento (train data[0]) que estén dentro de las diez mil más frecuentes"
   ]
  },
  {
   "cell_type": "markdown",
   "metadata": {},
   "source": [
    "### 2. (15 ptos)\n",
    "\n",
    "Prepare sus datos para que puedan ser recibidos por una red neuronal (como\n",
    "usted habr´a visto, los vectores del conjunto de entrenamiento y del conjunto de prueba\n",
    "tienen longitudes variadas). Para esto puede utilizar el multi-hot-encoding. Investigue y\n",
    "describa qu´e es el multi-hot-encoding. Luego, implemente una funci´on que codifique sus\n",
    "datos utilizando este m´etodo (en este caso debe crear un vector de longitud 10000 que\n",
    "tenga 1s en las posiciones de las palabras que aparecen en la respectiva rese˜na).\n"
   ]
  },
  {
   "cell_type": "code",
   "execution_count": null,
   "metadata": {},
   "outputs": [],
   "source": []
  },
  {
   "cell_type": "markdown",
   "metadata": {},
   "source": [
    "### 3. (15 ptos) \n",
    "\n",
    "Utilizando Keras, implemente diferentes tipos de redes con diferentes activaciones y arquitecturas pero sin ning´un m´etodo de regularizaci´on. Experimente tambi´en\n",
    "con los optimizadores m´as frecuentes. Tenga en cuenta que la activaci´on de la ´ultima capa\n",
    "debe ser sigmoide o softmax, al ser un problema de clasificaci´on binaria (recuerde que cada\n",
    "uno tiene su respectiva funci´on de costo apropiada). Describa sus resultados.\n",
    "Sugerencia: Como est´a impl´ıcitamente probando varios hiperpar´ametros puede dividir su\n",
    "conjunto de prueba en dos (validaci´on y prueba). Guarde sin utilizar una fracci´on de estos\n",
    "datos para realizar predicciones (Punto 5)."
   ]
  },
  {
   "cell_type": "code",
   "execution_count": null,
   "metadata": {},
   "outputs": [],
   "source": []
  },
  {
   "cell_type": "markdown",
   "metadata": {},
   "source": [
    "### 4. (10 ptos) \n",
    "\n",
    "Implemente m´etodos de regularizaci´on vistos en clase para mejorar su aprendizaje. Describa sus resultados.\n"
   ]
  }
 ],
 "metadata": {
  "kernelspec": {
   "display_name": "base",
   "language": "python",
   "name": "python3"
  },
  "language_info": {
   "codemirror_mode": {
    "name": "ipython",
    "version": 3
   },
   "file_extension": ".py",
   "mimetype": "text/x-python",
   "name": "python",
   "nbconvert_exporter": "python",
   "pygments_lexer": "ipython3",
   "version": "3.10.14"
  }
 },
 "nbformat": 4,
 "nbformat_minor": 2
}
