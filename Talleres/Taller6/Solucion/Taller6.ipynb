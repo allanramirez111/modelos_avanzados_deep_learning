{
 "cells": [
  {
   "cell_type": "markdown",
   "metadata": {},
   "source": [
    "# Taller 6. Redes neuronales recurrentes\n",
    "Nombres: Manuel Sanchez y Allan Ramirez"
   ]
  },
  {
   "cell_type": "markdown",
   "metadata": {},
   "source": [
    "Pasos previos\n",
    "\n",
    "1. Descomprima la carpeta y gu ́ardela en la ubicacíon que desee.\n",
    "\n",
    "2. Cree un nuevo archivo “main” en su editor de preferencia de Python (en lo posible, utilice\n",
    "Spyder o Pycharm). Recuerde utilizar el environment en el que usted ya instalo tensorflow.\n",
    "\n",
    "3. Para cargar los datos puede utilizar las siguientes lıneas:"
   ]
  },
  {
   "cell_type": "code",
   "execution_count": 3,
   "metadata": {},
   "outputs": [
    {
     "name": "stdout",
     "output_type": "stream",
     "text": [
      "['\"Date Time\"', '\"p (mbar)\"', '\"T (degC)\"', '\"Tpot (K)\"', '\"Tdew (degC)\"', '\"rh (%)\"', '\"VPmax (mbar)\"', '\"VPact (mbar)\"', '\"VPdef (mbar)\"', '\"sh (g/kg)\"', '\"H2OC (mmol/mol)\"', '\"rho (g/m**3)\"', '\"wv (m/s)\"', '\"max. wv (m/s)\"', '\"wd (deg)\"']\n",
      "420451\n"
     ]
    }
   ],
   "source": [
    "import os\n",
    "data_dir = \".\"\n",
    "fname = os.path.join(data_dir , \"jena_climate_2009_2016.csv\") \n",
    "f = open(fname) \n",
    "data = f.read() \n",
    "f.close() \n",
    "lines = data.split(\"\\n\") \n",
    "header = lines [0]. split(\",\") \n",
    "lines = lines [1:] \n",
    "print(header) \n",
    "print(len(lines))"
   ]
  },
  {
   "cell_type": "markdown",
   "metadata": {},
   "source": [
    "4. Convertiremos los datos en “arrays” de Numpy para acelerar las operaciones:"
   ]
  },
  {
   "cell_type": "code",
   "execution_count": 10,
   "metadata": {},
   "outputs": [
    {
     "name": "stdout",
     "output_type": "stream",
     "text": [
      "(420451, 14)\n"
     ]
    }
   ],
   "source": [
    "import numpy as np\n",
    "float_data = np . zeros (( len ( lines ) , len ( header ) - 1) )\n",
    "for i , line in enumerate ( lines ):\n",
    "    values = [ float (x) for x in line . split (\",\") [1:]]\n",
    "    float_data [i , :] = values\n",
    "\n",
    "print(float_data.shape)"
   ]
  },
  {
   "cell_type": "markdown",
   "metadata": {},
   "source": [
    "## Ejercicio 1\n",
    "Describa preliminarmente los datos que usara en su modelo (utilice estadısticas descriptivas,\n",
    "histogramas, etc.)\n"
   ]
  },
  {
   "cell_type": "code",
   "execution_count": null,
   "metadata": {},
   "outputs": [],
   "source": []
  },
  {
   "cell_type": "markdown",
   "metadata": {},
   "source": [
    "Para preprocesar los datos y extraer las secuencias con las que se entrenara la red puede usar la siguiente funcion:"
   ]
  },
  {
   "cell_type": "code",
   "execution_count": 12,
   "metadata": {},
   "outputs": [],
   "source": [
    "def generator ( data , lookback , delay , min_index , max_index , step =6) :\n",
    "    if max_index is None :  \n",
    "        max_index = len( data ) - delay - 1\n",
    "    i = min_index + lookback\n",
    "    rows = np . arange (i , max_index )\n",
    "    samples = np . zeros (( len ( rows ) , lookback // step ,data . shape [ -1]) )\n",
    "    targets = np . zeros (( len ( rows ) ,))\n",
    "    for j , row in enumerate ( rows ):\n",
    "        indices = range ( rows [j] - lookback , rows [j ], step )\n",
    "        samples [j] = data [ indices ]\n",
    "        targets [j] = data [ rows [ j] + delay ][1]\n",
    "    return samples , targets"
   ]
  },
  {
   "cell_type": "markdown",
   "metadata": {},
   "source": [
    "La funcion genera los inputs (variable “samples”) junto con los respectivos valores de la variable respuesta, la temperatura (variable “targets”).\n",
    "\n",
    "Los parametros de la funcion estan descritos de la siguiente forma (Chollet, Francois. Deep learning with Python. Simon and Schuster, 2021 ):\n",
    "\n",
    "• data — The original array of floating-point data.\n",
    "\n",
    "• lookback — How many timesteps back the input data should go.\n",
    "\n",
    "• delay — How many timesteps in the future the target should be.\n",
    "\n",
    "• min index and max index — Indices in the data array that delimit which timesteps to draw from. This is useful for keeping a segment of the data for validation and another for testing.\n",
    "\n",
    "• step — The period, in timesteps, at which you sample data. You’ll set it to 6 in order to draw one data point every hour.\n"
   ]
  },
  {
   "cell_type": "markdown",
   "metadata": {},
   "source": [
    "## Ejercicio 2\n",
    "Usando la funcion genere los datos de entrenamiento, validacion y prueba para un valor del lookback deseado. Se recomienda entrenar con mınimo 20, 000 elementos de la base.\n"
   ]
  },
  {
   "cell_type": "code",
   "execution_count": null,
   "metadata": {},
   "outputs": [],
   "source": []
  },
  {
   "cell_type": "markdown",
   "metadata": {},
   "source": [
    "## Ejercicio 3\n",
    "Normalice sus datos utilizando la media y la desviacion estandar del conjunto de entrenamiento de cada una de sus variable"
   ]
  },
  {
   "cell_type": "code",
   "execution_count": null,
   "metadata": {},
   "outputs": [],
   "source": []
  },
  {
   "cell_type": "markdown",
   "metadata": {},
   "source": [
    "## Construccion y entrenamiento de la red\n",
    "Para entrenar la red cargue las librerıas usando:\n",
    "Para construir la primera red puede usar la clase layers.SimpleRNN (las capas recurrentes mas simples).\n",
    "\n",
    "Puede tomar la siguiente red como ejemplo (la red utiliza el API secuencial, pero recuerde que tambien puede definir la red capa por capa utilizando la funcion “layers” incluyendo al\n",
    "final como parametro la capa anterior):"
   ]
  },
  {
   "cell_type": "code",
   "execution_count": 13,
   "metadata": {},
   "outputs": [],
   "source": [
    "import tensorflow as tf\n",
    "from tensorflow import keras\n",
    "from tensorflow.keras import layers\n"
   ]
  },
  {
   "cell_type": "code",
   "execution_count": null,
   "metadata": {},
   "outputs": [],
   "source": [
    "model = keras.Sequential ()\n",
    "model.add( keras . Input ( shape = ( None , float_data . shape [ -1]) ))\n",
    "model.add( layers . SimpleRNN (32 , return_sequences = True , activation = ’relu ’) )\n",
    "model.add ( layers . SimpleRNN (32 , activation = ’relu ’))\n",
    "model.add ( layers . Dense (1) )\n",
    "print(model.summary())\n",
    "model.compile(\n",
    "    loss = \"mae\",\n",
    "    optimizer = keras . optimizers . Adam ( learning_rate = 0.001) ,\n",
    "    metrics = [\" mse \"])\n",
    "model.fit( x_train , y_train , batch_size = 64 , epochs = 10 , verbose = 2, validation_data =( x_val , y_val ))\n",
    "model.evaluate( x_test , y_test , batch_size = 64 , verbose = 2)"
   ]
  },
  {
   "cell_type": "markdown",
   "metadata": {},
   "source": [
    "Note la ausencia de funcion de activacion en la ultima capa densa. Esto es tıpico en problemas\n",
    "de regresion. Ademas, en el momento de añadir la primera capa en el “layers.SimpleRNN”, el primer\n",
    "parametro es la cantidad de unidades y el segundo se usa para poder utilizar todos los outputs de cada secuencia en lugar de solo el ultimo (necesario si se van a incluir varias capas recurrentes)"
   ]
  }
 ],
 "metadata": {
  "kernelspec": {
   "display_name": "venv",
   "language": "python",
   "name": "python3"
  },
  "language_info": {
   "codemirror_mode": {
    "name": "ipython",
    "version": 3
   },
   "file_extension": ".py",
   "mimetype": "text/x-python",
   "name": "python",
   "nbconvert_exporter": "python",
   "pygments_lexer": "ipython3",
   "version": "3.10.14"
  }
 },
 "nbformat": 4,
 "nbformat_minor": 2
}
