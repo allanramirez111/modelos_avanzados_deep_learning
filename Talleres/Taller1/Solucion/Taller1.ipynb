{
  "cells": [
    {
      "cell_type": "markdown",
      "metadata": {
        "id": "DwSVrlFfEdny"
      },
      "source": [
        "# Taller 1. Introduccion practica a Redes Neuronales. Introduccion a Keras y Tensor Flow\n",
        "\n",
        "Nombres: Manuel Sanchez y Allan Ramirez"
      ]
    },
    {
      "cell_type": "markdown",
      "metadata": {
        "id": "ivs4feaHEcQM"
      },
      "source": [
        "## Ejercicio I\n",
        "(10 pts) Explique muy brevemente y con sus propias palabras los siguientes conceptos (puede\n",
        "investigarlos pero al escribir trate de no tener ninguna fuente abierta).\n",
        "\n",
        "\n",
        "\n",
        "*   Inteligencia artificial\n",
        "> La inteligencia artificial es un campo de investigación y trabajo que se enfoca en construir sistemas capaces de simular la inteligencia humana, permitiendo que realicen tareas intelectuales de manera automatizada. Su objetivo principal es desarrollar tecnologías que puedan resolver problemas, aprender y tomar decisiones de forma autónoma, facilitando procesos que normalmente requieren habilidades cognitivas.\n",
        "\n",
        "*   Machine Learning (Aprendizaje de máquinas)\n",
        "> El machine learning es una rama de la inteligencia artificial que se centra en desarrollar sistemas capaces de aprender relaciones, patrones y estructuras a partir de datos mediante algoritmos y modelos matemáticos. Estos sistemas aprenden de los datos y ajustan sus predicciones o decisiones basándose en ellos. Sin embargo, muchas veces funcionan como una \"caja negra\", ya que su proceso interno es difícil de interpretar, lo que plantea desafíos en términos de transparencia y comprensión de cómo se obtienen los resultados.\n",
        "\n",
        "*   Aprendizaje supervisado, no supervisado y reforzado\n",
        "> El aprendizaje supervisado, no supervisado y por refuerzo son tres enfoques principales en machine learning. En el aprendizaje supervisado, el modelo se entrena con datos etiquetados, es decir, con ejemplos que incluyen las respuestas correctas, para luego hacer predicciones sobre nuevos datos. El aprendizaje no supervisado trabaja con datos no etiquetados, donde el objetivo es encontrar patrones o estructuras ocultas en los datos, como la agrupación o reducción de dimensionalidad. Por su parte, el aprendizaje por refuerzo se basa en que un agente interactúe con un entorno, recibiendo recompensas o castigos según sus acciones, con el fin de aprender a maximizar recompensas a largo plazo.\n",
        "\n",
        "*   Datos de entrenamiento, prueba y validación\n",
        "> Los datos de entrenamiento, prueba y validación son fundamentales en el desarrollo de modelos de machine learning. Los datos de entrenamiento se utilizan para enseñar al modelo a aprender patrones y relaciones en los datos, ajustando sus parámetros internos. Los datos de validación se emplean durante el entrenamiento para ajustar hiperparámetros y prevenir el sobreajuste, ayudando a evaluar el rendimiento del modelo en datos no vistos durante el entrenamiento. Finalmente, los datos de prueba se reservan para la evaluación final del modelo, midiendo su capacidad para generalizar en nuevos datos y proporcionando una métrica objetiva de su desempeño.\n",
        "\n",
        "*   Método de validación cruzada\n",
        "> La validación cruzada es una técnica utilizada en machine learning para evaluar el rendimiento de un modelo de manera más robusta y evitar el sobreajuste. Consiste en dividir el conjunto de datos en varios subconjuntos o \"folds\". El modelo se entrena en varios de estos subconjuntos y se prueba en los restantes, repitiendo este proceso varias veces. En cada iteración, se utiliza un fold diferente como conjunto de prueba, mientras que los demás se emplean para el entrenamiento. Al final, los resultados se promedian para obtener una estimación más precisa y confiable del rendimiento del modelo en datos no vistos.\n",
        "\n",
        "\n",
        "\n",
        "\n",
        "\n",
        "\n"
      ]
    },
    {
      "cell_type": "markdown",
      "metadata": {
        "id": "1ouo02zPEb91"
      },
      "source": [
        "## Ejercicio II\n",
        "(10 pts) Diseñe una red de perceptrones usando el modelo McCulloch-Pitts (cada neurona tiene una entrada y una salida binaria) que sea equivalente a las funciones logicas “or” y “and” para una entrada binaria."
      ]
    },
    {
      "cell_type": "markdown",
      "metadata": {},
      "source": [
        "> Para la configuración de los perceptrones a utilizar, se tomará como referencia un perceptrón tipo nand, con pesos $w_1=-2$ y $w_2=-2$ y umbral de activación $\\theta = -3$, este tiene la forma\n",
        "\n",
        "$$\n",
        "\\left.\\begin{array}{ll}\n",
        "X_1 \\xRightarrow[]{\\omega_1 = -2}\\\\\n",
        "X_2 \\xRightarrow[\\omega_1 = -2]{}\n",
        "\\end{array} \\right\\} \\xRightarrow{\\theta = -3} Y\n",
        "$$\n",
        "\n",
        "> De esta forma se puede construir las funciones lógicas como se muestra a continuación\n",
        "- OR\n",
        "$$\n",
        "\\left.\n",
        "\\begin{array}{l}\n",
        "    \\left.\n",
        "    \\begin{array}{l}\n",
        "        X_1 \\xRightarrow[\\omega_2 = -2]{\\omega_1 = -2}\n",
        "    \\end{array}\n",
        "    \\right\\} \\xRightarrow{\\theta = -3} Y_1 \\xRightarrow[]{\\omega_1 = -2} \\\\\n",
        "    \\left.\n",
        "    \\begin{array}{l}\n",
        "        X_2 \\xRightarrow[\\omega_2 = -2]{\\omega_1 = -2}\n",
        "    \\end{array}\n",
        "    \\right\\} \\xRightarrow{\\theta = -3} Y_2 \\xRightarrow[\\omega_2 = -2]{}\n",
        "\\end{array}\n",
        "\\right\\}\n",
        "\\xRightarrow{\\theta = -3} Z\n",
        "$$\n",
        "\n",
        "- AND\n",
        "$$\n",
        "\\left.\n",
        "    \\begin{array}{ll}\n",
        "        X_1 \\xRightarrow[]{\\omega_1 = -2}\\\\\n",
        "        X_2 \\xRightarrow[\\omega_2 = -2]{}\n",
        "    \\end{array}\n",
        "\\right\\} \\xRightarrow{\\theta = -3} \\left.\n",
        "    \\begin{array}{ll}\n",
        "        Y \\xRightarrow[\\omega_2 = -2]{\\omega_1 = -2}\n",
        "    \\end{array}\n",
        "\\right\\}\n",
        "\\xRightarrow{\\theta = -3} Z\n",
        "$$"
      ]
    },
    {
      "cell_type": "markdown",
      "metadata": {
        "id": "HuXpxvd8ETM8"
      },
      "source": [
        "# Ejercicio III\n",
        "\n",
        "(40 pts) Creación y entrenamiento de una red neuronal."
      ]
    },
    {
      "cell_type": "code",
      "execution_count": 15,
      "metadata": {
        "colab": {
          "base_uri": "https://localhost:8080/"
        },
        "id": "bEmMDN8V6kPJ",
        "outputId": "1ceccbc8-f244-4005-b7c3-bb8d932048b3"
      },
      "outputs": [
        {
          "name": "stdout",
          "output_type": "stream",
          "text": [
            "2.17.0\n"
          ]
        }
      ],
      "source": [
        "import tensorflow as tf\n",
        "print(tf.__version__)"
      ]
    },
    {
      "cell_type": "markdown",
      "metadata": {
        "id": "JhUeME93BXMl"
      },
      "source": [
        "Vamos a programar nuestra primer red neuronal. Utilizaremos dicha red para reconocer dıgitos. Usaremos el conjunto de datos MNIST, que cuenta con miles de imagenes de dıgitos escritos a mano de 28×28 pixeles en escala de grises. El conjunto cuenta con un conjunto\n",
        "de entrenamiento de 60 mil imagenes y un conjunto de prueba de 10 mil imagenes (tomadas de forma independiente)."
      ]
    },
    {
      "cell_type": "code",
      "execution_count": 16,
      "metadata": {
        "colab": {
          "base_uri": "https://localhost:8080/"
        },
        "id": "ri3mIXIhBUQD",
        "outputId": "21fa9aa9-1ee5-44b7-a683-224778a2844c"
      },
      "outputs": [],
      "source": [
        "from tensorflow.keras.datasets import mnist\n",
        "from tensorflow import keras\n",
        "from tensorflow.keras import layers\n",
        "from tensorflow.keras import layers, models, optimizers\n",
        "(train_images , train_labels) , (test_images , test_labels) = mnist.load_data()"
      ]
    },
    {
      "cell_type": "markdown",
      "metadata": {
        "id": "wzBJe4yvB6DX"
      },
      "source": [
        "Verificamos las dimensiones de los datos"
      ]
    },
    {
      "cell_type": "code",
      "execution_count": 17,
      "metadata": {
        "colab": {
          "base_uri": "https://localhost:8080/"
        },
        "id": "Q-kZZBo3CEqZ",
        "outputId": "8ce720bb-0f22-4d94-f1ca-5be644cf0f87"
      },
      "outputs": [
        {
          "name": "stdout",
          "output_type": "stream",
          "text": [
            "(60000, 28, 28)\n",
            "[5 0 4 ... 5 6 8]\n",
            "(10000, 28, 28)\n",
            "[7 2 1 ... 4 5 6]\n"
          ]
        }
      ],
      "source": [
        "print(train_images.shape)\n",
        "print(train_labels)\n",
        "print(test_images.shape)\n",
        "print(test_labels)\n"
      ]
    },
    {
      "cell_type": "markdown",
      "metadata": {
        "id": "LM7AODuhEG2B"
      },
      "source": [
        "Aca podemos ver que la que la base de datos son 60.000 matrices de 28x28 donde guarda el valor de los pixeles que usaremos para el entrenamiento de la red neuronal. Y el array que se visualiza es el número que le corresponde a la imagen. Asi mismo pasa con la imagenes de test con la diferencia que se utilizan 10.000 imagenes. Ahora veamos un poco como se distribuye cada uno de las imagenes a partir de un grafico de barras."
      ]
    },
    {
      "cell_type": "code",
      "execution_count": 18,
      "metadata": {
        "colab": {
          "base_uri": "https://localhost:8080/",
          "height": 607
        },
        "id": "RebxLzfwDZhz",
        "outputId": "e30a51c1-36fd-40bf-b7e3-fb2caefba445"
      },
      "outputs": [
        {
          "data": {
            "image/png": "[encoded data removed]",
            "text/plain": [
              "<Figure size 800x600 with 2 Axes>"
            ]
          },
          "metadata": {},
          "output_type": "display_data"
        }
      ],
      "source": [
        "import matplotlib.pyplot as plt\n",
        "import numpy as np\n",
        "\n",
        "train_counts = np.bincount(train_labels)\n",
        "test_counts = np.bincount(test_labels)\n",
        "\n",
        "fig, axs = plt.subplots(2, 1, figsize=(8, 6))\n",
        "\n",
        "# Barplot para train_labels\n",
        "axs[0].bar(np.arange(len(train_counts)), train_counts, color='blue', alpha=0.7)\n",
        "axs[0].set_title('Barplot de train_labels')\n",
        "axs[0].set_xlabel('Etiquetas')\n",
        "axs[0].set_ylabel('Frecuencia')\n",
        "\n",
        "# Barplot para test_labels\n",
        "axs[1].bar(np.arange(len(test_counts)), test_counts, color='green', alpha=0.7)\n",
        "axs[1].set_title('Barplot de test_labels')\n",
        "axs[1].set_xlabel('Etiquetas')\n",
        "axs[1].set_ylabel('Frecuencia')\n",
        "\n",
        "plt.tight_layout()\n",
        "plt.show()\n"
      ]
    },
    {
      "cell_type": "markdown",
      "metadata": {
        "id": "kS8DmGdkDY1Q"
      },
      "source": [
        "Aquí se observa la cantidad de imágenes correspondientes a cada uno de los dígitos. En ambos casos, los datos se asemejan a una distribución uniforme, lo que indica que se intentó manejar la misma cantidad de imágenes para el ejercicio de reconocimiento de dígitos. Sin embargo, en ambas bases de datos, se destaca que hay más imágenes del dígito '1', mientras que el dígito con menos imágenes es el número '5'."
      ]
    },
    {
      "cell_type": "markdown",
      "metadata": {
        "id": "7OOuETxaD_Mx"
      },
      "source": [
        "Para que nuestra red reciba un vector y no una matriz, necesitamos cambiar la dimensionalidad de nuestros datos. Para eso podemos usar:"
      ]
    },
    {
      "cell_type": "code",
      "execution_count": 19,
      "metadata": {
        "id": "yDdANGjuImBD"
      },
      "outputs": [],
      "source": [
        "train_images = train_images.reshape((60000, 28 * 28) )\n",
        "train_images = train_images.astype(\"float32\") / 255\n",
        "test_images = test_images.reshape((10000, 28 * 28) )\n",
        "test_images = test_images.astype(\"float32\") / 255"
      ]
    },
    {
      "cell_type": "markdown",
      "metadata": {
        "id": "iG4yGG5eJF3x"
      },
      "source": [
        "En esta celda, tanto para la base de datos de entrenamiento como para la de prueba, estamos ajustando la dimensionalidad de los datos para preparar adecuadamente los inputs para nuestra red neuronal. En lugar de trabajar con matrices de 28x28, transformamos los datos en un vector de longitud 784 (28x28) utilizando la función reshape(). Posteriormente, normalizamos estos vectores dividiendo cada valor por 255, lo que convierte la escala de los píxeles, originalmente entre 1 y 255, a un rango entre 0 y 1. Esto facilita el proceso de aprendizaje del modelo."
      ]
    },
    {
      "cell_type": "markdown",
      "metadata": {
        "id": "OkP96_HVM1d7"
      },
      "source": [
        "Cree una red neuronal usando neuronas sigmoides y una capa final softmax. Para esto puede\n",
        "usar la funcion Sequential de keras:"
      ]
    },
    {
      "cell_type": "code",
      "execution_count": 20,
      "metadata": {
        "id": "JvymRIvFM43r"
      },
      "outputs": [],
      "source": [
        "model = keras.Sequential([\n",
        "    layers.Dense(512, activation =\"sigmoid\") ,\n",
        "    layers.Dense(10, activation =\"softmax\")\n",
        "])"
      ]
    },
    {
      "cell_type": "markdown",
      "metadata": {
        "id": "g44EQDwdNctW"
      },
      "source": [
        "En esta celda, la función Sequential se utiliza para crear un modelo secuencial, este modelo permite apilar capas de forma lineal, es decir, una capa tras otra.\n",
        "\n",
        "Para este caso se crea un modelo secuencial con dos capas densas (Dense):\n",
        "\n",
        "*   La primera capa tiene 512 neuronas con la función de activación sigmoide\n",
        "*   La segunda capa tiene 10 neuronas con la función de activación softmax\n",
        "\n",
        "La segunda capa de la red uso la función de activación softmax se utiliza principalmente cuando el objetivo es la clasificación multiclase. Esta función toma un vector de valores de entrada (que puede ser cualquier número real) y los convierte en probabilidades, es decir, en valores en el rango [0, 1] que suman 1.\n",
        "\n",
        "Cada neurona de la capa softmax produce un valor que representa la probabilidad de que la entrada pertenezca a una de las clases específicas. En este caso, se generará 10 probabilidades, una para cada digito posible. La clase con la probabilidad más alta es la predicción del modelo."
      ]
    },
    {
      "cell_type": "code",
      "execution_count": 21,
      "metadata": {
        "id": "qFa-A-leNdM5"
      },
      "outputs": [],
      "source": [
        "model.compile(optimizer=\"SGD\",\n",
        "loss =\"SparseCategoricalCrossentropy\",\n",
        "metrics =[\"accuracy\"])"
      ]
    },
    {
      "cell_type": "markdown",
      "metadata": {
        "id": "ERs5D7PNNzrS"
      },
      "source": [
        "La función compile se utiliza para configurar el modelo antes de entrenarlo. Es un paso crucial que define cómo el modelo se optimizará y evaluará durante el proceso de entrenamiento. Al llamar a model.compile(), se especifican tres aspectos clave: el optimizador, la función de pérdida y las métricas de evaluación. Aunque los tres parametros son claves para evaluar el modelo en el entrenamiento para este caso, es clave mencionar que la funcion de perdida usada como \"SparseCategoricalCrossentropy\", es adecuada para problemas de clasificación multiclase donde las etiquetas son enteros en lugar de vectores one-hot. Esta función de pérdida compara la probabilidad predicha para cada clase (producida por la activación softmax) con la clase real y calcula la pérdida para cada muestra."
      ]
    },
    {
      "cell_type": "code",
      "execution_count": 22,
      "metadata": {
        "colab": {
          "base_uri": "https://localhost:8080/"
        },
        "id": "yjh-JXVWN3Ul",
        "outputId": "f568ec89-0838-483b-a7e7-be16c1afc66e"
      },
      "outputs": [
        {
          "name": "stdout",
          "output_type": "stream",
          "text": [
            "Epoch 1/5\n",
            "\u001b[1m1875/1875\u001b[0m \u001b[32m━━━━━━━━━━━━━━━━━━━━\u001b[0m\u001b[37m\u001b[0m \u001b[1m2s\u001b[0m 883us/step - accuracy: 0.5631 - loss: 1.7323\n",
            "Epoch 2/5\n",
            "\u001b[1m1875/1875\u001b[0m \u001b[32m━━━━━━━━━━━━━━━━━━━━\u001b[0m\u001b[37m\u001b[0m \u001b[1m2s\u001b[0m 912us/step - accuracy: 0.8474 - loss: 0.6839\n",
            "Epoch 3/5\n",
            "\u001b[1m1875/1875\u001b[0m \u001b[32m━━━━━━━━━━━━━━━━━━━━\u001b[0m\u001b[37m\u001b[0m \u001b[1m2s\u001b[0m 912us/step - accuracy: 0.8739 - loss: 0.4989\n",
            "Epoch 4/5\n",
            "\u001b[1m1875/1875\u001b[0m \u001b[32m━━━━━━━━━━━━━━━━━━━━\u001b[0m\u001b[37m\u001b[0m \u001b[1m2s\u001b[0m 898us/step - accuracy: 0.8844 - loss: 0.4293\n",
            "Epoch 5/5\n",
            "\u001b[1m1875/1875\u001b[0m \u001b[32m━━━━━━━━━━━━━━━━━━━━\u001b[0m\u001b[37m\u001b[0m \u001b[1m2s\u001b[0m 883us/step - accuracy: 0.8902 - loss: 0.4005\n"
          ]
        },
        {
          "data": {
            "text/plain": [
              "<keras.src.callbacks.history.History at 0x1fefc2d83b0>"
            ]
          },
          "execution_count": 22,
          "metadata": {},
          "output_type": "execute_result"
        }
      ],
      "source": [
        "model.fit(train_images, train_labels, epochs=5)"
      ]
    },
    {
      "cell_type": "markdown",
      "metadata": {
        "id": "Qrdt_0VsOQPl"
      },
      "source": [
        "La función fit es lo que utilizaremos para entrenar el modelo con los datos proporcionados. Es el método principal para ajustar los parámetros, donde el modelo iterativamente ajusta sus pesos para minimizar la función de pérdida definida durante la compilación. En los cuales nos pediran los datos de entrenamiento; los datos de prueba; la cantidad de epocas que se refiere a una pasada completa por todo el conjunto de datos de entrenamiento.\n",
        "\n",
        "Entonces lo que nos muestra los resultados del modelo, es que nos muestra cuanto tardo en ejecutarse una epoca y nos arroja al nivel de entrenamiento cuanto fue la precision y el valor de su funcion de perdida. Conforme van avanzando la epocas la precision debe aumentar y el valor de la funcion de perdida debe disminuir que es cierto, en este caso. Empezamos con una precision de 56.35% y funcion de perdida del 1.722 y al finalizar la 5 epocas quedaran en una precision del 89.19% y funcion de perdida del 0.3975 dandonos un indicio que el modelo esta teniendo un buen ajuste.  "
      ]
    },
    {
      "cell_type": "code",
      "execution_count": 23,
      "metadata": {
        "colab": {
          "base_uri": "https://localhost:8080/"
        },
        "id": "NA77O4vaOI67",
        "outputId": "4bb3619f-e2f6-4d78-edfc-498db61f8c68"
      },
      "outputs": [
        {
          "name": "stdout",
          "output_type": "stream",
          "text": [
            "\u001b[1m313/313\u001b[0m \u001b[32m━━━━━━━━━━━━━━━━━━━━\u001b[0m\u001b[37m\u001b[0m \u001b[1m0s\u001b[0m 625us/step - accuracy: 0.8825 - loss: 0.4082\n"
          ]
        }
      ],
      "source": [
        "test_loss, test_acc = model.evaluate(test_images, test_labels)"
      ]
    },
    {
      "cell_type": "markdown",
      "metadata": {
        "id": "q-pehS_rOFYr"
      },
      "source": [
        "La función evaluate se utiliza para medir el rendimiento de un modelo entrenado en un conjunto de datos de prueba. Esta función calcula la pérdida y las métricas que fueron definidas durante la compilación del modelo. En este caso, como parámetros se requieren los datos de las imágenes de prueba y sus respectivas etiquetas (labels) que identifican a qué tipo de imagen corresponde cada una. La función devuelve los mismos tipos de valores que se utilizaron durante el entrenamiento.\n",
        "\n",
        "En este ejemplo, se obtuvo una precisión de 0.8814, lo cual se puede considerar bueno para predecir dígitos en imágenes. La función de pérdida es de 0.4145, lo que es considerablemente bajo y cercano a los resultados obtenidos con los datos de entrenamiento. Esto sugiere que, además de estar bien ajustado, el modelo también arroja resultados bastante buenos para realizar predicciones en datos nuevos."
      ]
    },
    {
      "cell_type": "markdown",
      "metadata": {
        "id": "ikzoaa2YqBji"
      },
      "source": [
        "## Ejercicio 4\n",
        "\n",
        "(40 pts) Utilizando lo aprendido en el numeral anterior, diseñe por lo menos 4 redes diferentes (con distinto número de capas intermedias, distintos números de neuronas en ellas y distintas activaciones). Inicie y entrene sus redes múltiples veces. Describa las redes usadas y sus resultados. ¿Cuál es el mejor desempeño que logra conseguir (porcentaje de acierto con el conjunto de\n",
        "prueba)?\n"
      ]
    },
    {
      "cell_type": "markdown",
      "metadata": {},
      "source": [
        "> Se proponen entonces los siguientes 4 modelos"
      ]
    },
    {
      "cell_type": "code",
      "execution_count": 24,
      "metadata": {},
      "outputs": [],
      "source": [
        "# Creación de listas para guardar accuracy y modelos\n",
        "modelos = [str(a) for a in range(1, 6)]\n",
        "accuracy = [test_acc]"
      ]
    },
    {
      "cell_type": "code",
      "execution_count": 25,
      "metadata": {},
      "outputs": [
        {
          "name": "stdout",
          "output_type": "stream",
          "text": [
            "Epoch 1/5\n",
            "\u001b[1m1875/1875\u001b[0m \u001b[32m━━━━━━━━━━━━━━━━━━━━\u001b[0m\u001b[37m\u001b[0m \u001b[1m2s\u001b[0m 794us/step - accuracy: 0.7509 - loss: 1.0064\n",
            "Epoch 2/5\n",
            "\u001b[1m1875/1875\u001b[0m \u001b[32m━━━━━━━━━━━━━━━━━━━━\u001b[0m\u001b[37m\u001b[0m \u001b[1m1s\u001b[0m 788us/step - accuracy: 0.9026 - loss: 0.3537\n",
            "Epoch 3/5\n",
            "\u001b[1m1875/1875\u001b[0m \u001b[32m━━━━━━━━━━━━━━━━━━━━\u001b[0m\u001b[37m\u001b[0m \u001b[1m2s\u001b[0m 792us/step - accuracy: 0.9173 - loss: 0.2960\n",
            "Epoch 4/5\n",
            "\u001b[1m1875/1875\u001b[0m \u001b[32m━━━━━━━━━━━━━━━━━━━━\u001b[0m\u001b[37m\u001b[0m \u001b[1m2s\u001b[0m 808us/step - accuracy: 0.9288 - loss: 0.2554\n",
            "Epoch 5/5\n",
            "\u001b[1m1875/1875\u001b[0m \u001b[32m━━━━━━━━━━━━━━━━━━━━\u001b[0m\u001b[37m\u001b[0m \u001b[1m1s\u001b[0m 771us/step - accuracy: 0.9365 - loss: 0.2311\n",
            "\u001b[1m313/313\u001b[0m \u001b[32m━━━━━━━━━━━━━━━━━━━━\u001b[0m\u001b[37m\u001b[0m \u001b[1m0s\u001b[0m 609us/step - accuracy: 0.9302 - loss: 0.2446\n"
          ]
        }
      ],
      "source": [
        "# Modelo 2\n",
        "# Diseño\n",
        "model2 = keras.Sequential([\n",
        "    layers.Dense(256, activation=\"relu\"),\n",
        "    layers.Dense(10, activation=\"softmax\")\n",
        "])\n",
        "\n",
        "# Compilacion\n",
        "model2.compile(optimizer=\"SGD\",\n",
        "loss =\"SparseCategoricalCrossentropy\",\n",
        "metrics =[\"accuracy\"])\n",
        "\n",
        "# Entrenamiento\n",
        "model2.fit(train_images, train_labels, epochs=5)\n",
        "\n",
        "# Guardar accuracy\n",
        "test_loss, test_acc = model2.evaluate(test_images, test_labels)\n",
        "accuracy.append(test_acc)"
      ]
    },
    {
      "cell_type": "code",
      "execution_count": 26,
      "metadata": {},
      "outputs": [
        {
          "name": "stdout",
          "output_type": "stream",
          "text": [
            "Epoch 1/5\n",
            "\u001b[1m1875/1875\u001b[0m \u001b[32m━━━━━━━━━━━━━━━━━━━━\u001b[0m\u001b[37m\u001b[0m \u001b[1m2s\u001b[0m 720us/step - accuracy: 0.7672 - loss: 0.8933\n",
            "Epoch 2/5\n",
            "\u001b[1m1875/1875\u001b[0m \u001b[32m━━━━━━━━━━━━━━━━━━━━\u001b[0m\u001b[37m\u001b[0m \u001b[1m1s\u001b[0m 685us/step - accuracy: 0.9073 - loss: 0.3361\n",
            "Epoch 3/5\n",
            "\u001b[1m1875/1875\u001b[0m \u001b[32m━━━━━━━━━━━━━━━━━━━━\u001b[0m\u001b[37m\u001b[0m \u001b[1m1s\u001b[0m 677us/step - accuracy: 0.9207 - loss: 0.2813\n",
            "Epoch 4/5\n",
            "\u001b[1m1875/1875\u001b[0m \u001b[32m━━━━━━━━━━━━━━━━━━━━\u001b[0m\u001b[37m\u001b[0m \u001b[1m1s\u001b[0m 673us/step - accuracy: 0.9287 - loss: 0.2472\n",
            "Epoch 5/5\n",
            "\u001b[1m1875/1875\u001b[0m \u001b[32m━━━━━━━━━━━━━━━━━━━━\u001b[0m\u001b[37m\u001b[0m \u001b[1m1s\u001b[0m 689us/step - accuracy: 0.9350 - loss: 0.2279\n",
            "\u001b[1m313/313\u001b[0m \u001b[32m━━━━━━━━━━━━━━━━━━━━\u001b[0m\u001b[37m\u001b[0m \u001b[1m0s\u001b[0m 562us/step - accuracy: 0.9291 - loss: 0.2336\n"
          ]
        }
      ],
      "source": [
        "# Modelo 3\n",
        "# Diseño\n",
        "model3 = keras.Sequential([\n",
        "    layers.Dense(128, activation=\"tanh\"),\n",
        "    layers.Dense(64, activation=\"tanh\"),\n",
        "    layers.Dense(10, activation=\"softmax\")\n",
        "])\n",
        "\n",
        "# Compilacion\n",
        "model3.compile(optimizer=\"SGD\",\n",
        "loss =\"SparseCategoricalCrossentropy\",\n",
        "metrics =[\"accuracy\"])\n",
        "\n",
        "# Entrenamiento\n",
        "model3.fit(train_images, train_labels, epochs=5)\n",
        "\n",
        "# Guardar accuracy\n",
        "test_loss, test_acc = model3.evaluate(test_images, test_labels)\n",
        "accuracy.append(test_acc)"
      ]
    },
    {
      "cell_type": "code",
      "execution_count": 27,
      "metadata": {},
      "outputs": [
        {
          "name": "stdout",
          "output_type": "stream",
          "text": [
            "Epoch 1/5\n",
            "\u001b[1m1875/1875\u001b[0m \u001b[32m━━━━━━━━━━━━━━━━━━━━\u001b[0m\u001b[37m\u001b[0m \u001b[1m3s\u001b[0m 1ms/step - accuracy: 0.1199 - loss: 2.3015\n",
            "Epoch 2/5\n",
            "\u001b[1m1875/1875\u001b[0m \u001b[32m━━━━━━━━━━━━━━━━━━━━\u001b[0m\u001b[37m\u001b[0m \u001b[1m2s\u001b[0m 1ms/step - accuracy: 0.2032 - loss: 2.2654\n",
            "Epoch 3/5\n",
            "\u001b[1m1875/1875\u001b[0m \u001b[32m━━━━━━━━━━━━━━━━━━━━\u001b[0m\u001b[37m\u001b[0m \u001b[1m2s\u001b[0m 1ms/step - accuracy: 0.3567 - loss: 2.1780\n",
            "Epoch 4/5\n",
            "\u001b[1m1875/1875\u001b[0m \u001b[32m━━━━━━━━━━━━━━━━━━━━\u001b[0m\u001b[37m\u001b[0m \u001b[1m2s\u001b[0m 1ms/step - accuracy: 0.4805 - loss: 1.8305\n",
            "Epoch 5/5\n",
            "\u001b[1m1875/1875\u001b[0m \u001b[32m━━━━━━━━━━━━━━━━━━━━\u001b[0m\u001b[37m\u001b[0m \u001b[1m2s\u001b[0m 1ms/step - accuracy: 0.5994 - loss: 1.3054\n",
            "\u001b[1m313/313\u001b[0m \u001b[32m━━━━━━━━━━━━━━━━━━━━\u001b[0m\u001b[37m\u001b[0m \u001b[1m0s\u001b[0m 809us/step - accuracy: 0.6589 - loss: 1.0715\n"
          ]
        }
      ],
      "source": [
        "# Modelo 4\n",
        "# Diseño\n",
        "model4 = keras.Sequential([\n",
        "    layers.Dense(512, activation=\"sigmoid\"),\n",
        "    layers.Dense(256, activation=\"sigmoid\"),\n",
        "    layers.Dense(128, activation=\"sigmoid\"),\n",
        "    layers.Dense(10, activation=\"softmax\")\n",
        "])\n",
        "\n",
        "# Compilacion\n",
        "model4.compile(optimizer=\"SGD\",\n",
        "loss =\"SparseCategoricalCrossentropy\",\n",
        "metrics =[\"accuracy\"])\n",
        "\n",
        "# Entrenamiento\n",
        "model4.fit(train_images, train_labels, epochs=5)\n",
        "\n",
        "# Guardar accuracy\n",
        "test_loss, test_acc = model4.evaluate(test_images, test_labels)\n",
        "accuracy.append(test_acc)"
      ]
    },
    {
      "cell_type": "code",
      "execution_count": 28,
      "metadata": {},
      "outputs": [
        {
          "name": "stdout",
          "output_type": "stream",
          "text": [
            "Epoch 1/5\n",
            "\u001b[1m1875/1875\u001b[0m \u001b[32m━━━━━━━━━━━━━━━━━━━━\u001b[0m\u001b[37m\u001b[0m \u001b[1m5s\u001b[0m 3ms/step - accuracy: 0.2152 - loss: 2.2528\n",
            "Epoch 2/5\n",
            "\u001b[1m1875/1875\u001b[0m \u001b[32m━━━━━━━━━━━━━━━━━━━━\u001b[0m\u001b[37m\u001b[0m \u001b[1m5s\u001b[0m 3ms/step - accuracy: 0.6776 - loss: 1.2854\n",
            "Epoch 3/5\n",
            "\u001b[1m1875/1875\u001b[0m \u001b[32m━━━━━━━━━━━━━━━━━━━━\u001b[0m\u001b[37m\u001b[0m \u001b[1m5s\u001b[0m 3ms/step - accuracy: 0.8413 - loss: 0.6020\n",
            "Epoch 4/5\n",
            "\u001b[1m1875/1875\u001b[0m \u001b[32m━━━━━━━━━━━━━━━━━━━━\u001b[0m\u001b[37m\u001b[0m \u001b[1m5s\u001b[0m 3ms/step - accuracy: 0.8900 - loss: 0.4165\n",
            "Epoch 5/5\n",
            "\u001b[1m1875/1875\u001b[0m \u001b[32m━━━━━━━━━━━━━━━━━━━━\u001b[0m\u001b[37m\u001b[0m \u001b[1m5s\u001b[0m 3ms/step - accuracy: 0.9080 - loss: 0.3385\n",
            "\u001b[1m313/313\u001b[0m \u001b[32m━━━━━━━━━━━━━━━━━━━━\u001b[0m\u001b[37m\u001b[0m \u001b[1m0s\u001b[0m 1ms/step - accuracy: 0.9041 - loss: 0.3344\n"
          ]
        }
      ],
      "source": [
        "# Modelo 5\n",
        "# Diseño\n",
        "model5 = keras.Sequential([\n",
        "    layers.Dense(1024, activation=\"relu\"),\n",
        "    layers.Dense(512, activation=\"relu\"),\n",
        "    layers.Dense(256, activation=\"sigmoid\"),\n",
        "    layers.Dense(128, activation=\"sigmoid\"),\n",
        "    layers.Dense(10, activation=\"softmax\")\n",
        "])\n",
        "\n",
        "\n",
        "# Compilacion\n",
        "model5.compile(optimizer=\"SGD\",\n",
        "loss =\"SparseCategoricalCrossentropy\",\n",
        "metrics =[\"accuracy\"])\n",
        "\n",
        "# Entrenamiento\n",
        "model5.fit(train_images, train_labels, epochs=5)\n",
        "\n",
        "# Guardar accuracy\n",
        "test_loss, test_acc = model5.evaluate(test_images, test_labels)\n",
        "accuracy.append(test_acc)"
      ]
    },
    {
      "cell_type": "markdown",
      "metadata": {},
      "source": [
        "> El accuracy de cada uno de los modelos entrenados se muestra a continuación"
      ]
    },
    {
      "cell_type": "code",
      "execution_count": 38,
      "metadata": {},
      "outputs": [
        {
          "data": {
            "image/png": "[encoded data removed]",
            "text/plain": [
              "<Figure size 1000x600 with 1 Axes>"
            ]
          },
          "metadata": {},
          "output_type": "display_data"
        }
      ],
      "source": [
        "# Crear la figura y establecer el tamaño\n",
        "plt.figure(figsize=(10, 6))\n",
        "\n",
        "# Nombres de los modelos\n",
        "model_names = [f'Modelo {i}' for i in range(1, 6)]\n",
        "\n",
        "# Ordenar los modelos y las accuracies de mayor a menor\n",
        "accuracy_sorted, model_names_sorted = zip(*sorted(zip(accuracy, model_names), reverse=True))\n",
        "\n",
        "# Graficar el gráfico de barras\n",
        "bars = plt.bar(model_names_sorted, accuracy_sorted)\n",
        "\n",
        "# Agregar título y etiquetas a los ejes\n",
        "plt.title('Accuracy en el conjunto de prueba por modelo')\n",
        "plt.xlabel('Modelo')\n",
        "plt.ylabel('Accuracy')\n",
        "\n",
        "# Agregar los porcentajes en la parte superior de cada barra\n",
        "for bar, acc in zip(bars, accuracy_sorted):\n",
        "    yval = bar.get_height()\n",
        "    plt.text(bar.get_x() + bar.get_width()/2, yval, f'{acc:.2%}', ha='center', va='bottom')\n",
        "\n",
        "# Mostrar el gráfico\n",
        "plt.show()"
      ]
    },
    {
      "cell_type": "markdown",
      "metadata": {},
      "source": [
        "> Se puede destacar como 4 de los 5 modelos evaluados obtienen una precisión superior al 90%, lo cual indica un buen ajuste general en el conjunto de prueba. Sin embargo, lo más interesante es que el modelo 2, que cuenta con un diseño relativamente simple en comparación con los demás, logra la mayor precisión, lo que sugiere que en ciertos casos un diseño más eficiente puede superar a modelos más complejos.\n",
        "\n",
        "> Por otro lado, el modelo 4, uno de los más complejos en términos de capas y neuronas, sorprendentemente tiene el peor desempeño, lo que refuerza la idea de que añadir más capas y neuronas no necesariamente mejora la capacidad predictiva, a veces más es menos. Este resultado probablemente se deba a un tema de sobreajuste en el modelo."
      ]
    }
  ],
  "metadata": {
    "colab": {
      "provenance": []
    },
    "kernelspec": {
      "display_name": "Python 3",
      "name": "python3"
    },
    "language_info": {
      "codemirror_mode": {
        "name": "ipython",
        "version": 3
      },
      "file_extension": ".py",
      "mimetype": "text/x-python",
      "name": "python",
      "nbconvert_exporter": "python",
      "pygments_lexer": "ipython3",
      "version": "3.12.5"
    }
  },
  "nbformat": 4,
  "nbformat_minor": 0
}
