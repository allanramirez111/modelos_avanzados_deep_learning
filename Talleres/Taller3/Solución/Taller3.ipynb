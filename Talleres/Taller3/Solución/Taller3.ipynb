{
 "cells": [
  {
   "cell_type": "code",
   "execution_count": 1,
   "metadata": {},
   "outputs": [
    {
     "ename": "ModuleNotFoundError",
     "evalue": "No module named 'Talleres'",
     "output_type": "error",
     "traceback": [
      "\u001b[1;31m---------------------------------------------------------------------------\u001b[0m",
      "\u001b[1;31mModuleNotFoundError\u001b[0m                       Traceback (most recent call last)",
      "Cell \u001b[1;32mIn[1], line 1\u001b[0m\n\u001b[1;32m----> 1\u001b[0m \u001b[38;5;28;01mfrom\u001b[39;00m \u001b[38;5;21;01mTalleres\u001b[39;00m\u001b[38;5;21;01m.\u001b[39;00m\u001b[38;5;21;01mTaller2\u001b[39;00m\u001b[38;5;21;01m.\u001b[39;00m\u001b[38;5;21;01mSolucion\u001b[39;00m\u001b[38;5;21;01m.\u001b[39;00m\u001b[38;5;21;01mparte_practica\u001b[39;00m\u001b[38;5;21;01m.\u001b[39;00m\u001b[38;5;21;01mmain\u001b[39;00m \u001b[38;5;28;01mimport\u001b[39;00m entrenar_y_medir, load_df\n\u001b[0;32m      2\u001b[0m \u001b[38;5;28;01mfrom\u001b[39;00m \u001b[38;5;21;01mjoblib\u001b[39;00m \u001b[38;5;28;01mimport\u001b[39;00m Parallel, delayed\n\u001b[0;32m      3\u001b[0m \u001b[38;5;28;01mfrom\u001b[39;00m \u001b[38;5;21;01mtqdm\u001b[39;00m \u001b[38;5;28;01mimport\u001b[39;00m tqdm\n",
      "\u001b[1;31mModuleNotFoundError\u001b[0m: No module named 'Talleres'"
     ]
    }
   ],
   "source": [
    "from Talleres.Taller2.Solucion.parte_practica.main import entrenar_y_medir, load_df\n",
    "from joblib import Parallel, delayed\n",
    "from tqdm import tqdm\n",
    "import pandas as pd\n",
    "from Talleres.Taller2.Solucion.parte_practica.plot import plot_predicted_digits\n",
    "\n",
    "training_data, test_data = load_df()"
   ]
  },
  {
   "cell_type": "code",
   "execution_count": null,
   "metadata": {},
   "outputs": [],
   "source": []
  },
  {
   "cell_type": "code",
   "execution_count": null,
   "metadata": {},
   "outputs": [],
   "source": [
    "net_configs = []\n",
    "epochs = 30\n",
    "\n",
    "# Configuración 1: Arquitectura más simple y tasa de aprendizaje media\n",
    "net_configs.append({\n",
    "    'architecture': [784, 30, 10],      # 1 capa oculta con 30 neuronas\n",
    "    'epochs': epochs,                       # 30 épocas de entrenamiento\n",
    "    'mini_batch_size': 10,              # Tamaño de mini-lote de 10\n",
    "    'eta': 0.1                          # Tasa de aprendizaje media\n",
    "})\n",
    "\n",
    "# Configuración 2: Arquitectura con más capas y tasa de aprendizaje baja\n",
    "net_configs.append({\n",
    "    'architecture': [784, 10, 10, 10],  # 3 capas ocultas con 10 neuronas cada una\n",
    "    'epochs': epochs,                       # 25 épocas de entrenamiento\n",
    "    'mini_batch_size': 15,              # Tamaño de mini-lote de 15\n",
    "    'eta': 0.05                         # Tasa de aprendizaje baja\n",
    "})\n",
    "\n",
    "# Configuración 3: Más neuronas por capa y tasa de aprendizaje alta\n",
    "net_configs.append({\n",
    "    'architecture': [784, 100, 10],     # 1 capa oculta con 100 neuronas\n",
    "    'epochs': epochs,                       # 25 épocas de entrenamiento\n",
    "    'mini_batch_size': 5,               # Mini-lotes pequeños de 5\n",
    "    'eta': 0.2                          # Tasa de aprendizaje alta\n",
    "})\n",
    "\n",
    "# Configuración 4: Arquitectura con capas grandes y tasa de aprendizaje baja\n",
    "net_configs.append({\n",
    "    'architecture': [784, 512, 256, 10],# 2 capas ocultas con 512 y 256 neuronas\n",
    "    'epochs': epochs,                       # 30 épocas de entrenamiento\n",
    "    'mini_batch_size': 8,               # Mini-lotes pequeños de 8\n",
    "    'eta': 0.01                         # Tasa de aprendizaje baja\n",
    "})\n",
    "\n",
    "# Configuración 5: Arquitectura con capas pequeñas y tasa de aprendizaje media\n",
    "net_configs.append({\n",
    "    'architecture': [784, 32, 16, 10],  # 2 capas ocultas con 32 y 16 neuronas\n",
    "    'epochs': epochs,                       # 25 épocas de entrenamiento\n",
    "    'mini_batch_size': 12,              # Tamaño de mini-lote de 12\n",
    "    'eta': 0.1                          # Tasa de aprendizaje media\n",
    "})"
   ]
  }
 ],
 "metadata": {
  "kernelspec": {
   "display_name": "venv",
   "language": "python",
   "name": "python3"
  },
  "language_info": {
   "codemirror_mode": {
    "name": "ipython",
    "version": 3
   },
   "file_extension": ".py",
   "mimetype": "text/x-python",
   "name": "python",
   "nbconvert_exporter": "python",
   "pygments_lexer": "ipython3",
   "version": "3.12.7"
  }
 },
 "nbformat": 4,
 "nbformat_minor": 2
}
