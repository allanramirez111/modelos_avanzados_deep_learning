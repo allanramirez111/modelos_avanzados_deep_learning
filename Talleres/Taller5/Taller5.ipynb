{
 "cells": [
  {
   "cell_type": "markdown",
   "metadata": {},
   "source": [
    "# Taller 5. Redes Convolucionales\n",
    "Nombres: Manuel Sanchez y Allan Ramirez"
   ]
  },
  {
   "cell_type": "markdown",
   "metadata": {},
   "source": [
    "## Parte I\n",
    "\n",
    "En este ejercicio utilizaremos redes convolucionales para el problema de reconocimiento de digitos de MNIST. Como nuestro input en este caso sera procesado como una imagen (una matriz) y no como un vector podemos importarlo y procesarlo usando:"
   ]
  },
  {
   "cell_type": "code",
   "execution_count": 1,
   "metadata": {},
   "outputs": [],
   "source": [
    "from tensorflow.keras.datasets import mnist\n",
    "\n",
    "(train_images , train_labels), (test_images , test_labels) = mnist.load_data ()\n",
    "train_images = train_images.reshape ((60000 , 28, 28, 1))\n",
    "train_images = train_images.astype(\"float32\") / 255\n",
    "test_images = test_images.reshape ((10000 , 28, 28, 1))\n",
    "test_images = test_images.astype(\"float32\") / 255"
   ]
  },
  {
   "cell_type": "markdown",
   "metadata": {},
   "source": [
    "Ya habiendo importado nuestros datos podemos construir nuestra primera red convolucional usando:"
   ]
  },
  {
   "cell_type": "code",
   "execution_count": 2,
   "metadata": {},
   "outputs": [],
   "source": [
    "from tensorflow import keras\n",
    "from tensorflow.keras import layers\n",
    "inputs = keras.Input(shape =(28, 28, 1))\n",
    "x = layers.Conv2D(filters =32, kernel_size =3, activation=\"relu\")(inputs)\n",
    "x = layers.MaxPooling2D(pool_size =2)(x)\n",
    "x = layers.Flatten ()(x)\n",
    "outputs = layers.Dense(10, activation=\"softmax\")(x)\n",
    "model = keras.Model(inputs=inputs , outputs=outputs)"
   ]
  },
  {
   "cell_type": "markdown",
   "metadata": {},
   "source": [
    "Como podra ver, hemos definido nuestra red sin usar el API secuencial. Por el contrario, hemos definido la red capa por capa utilizando la funcion “layers” incluyendo al final como parametro la capa anterior. La accion de “layers” es como dibujar una flecha desde la capa que se recibe como parametro hasta esta capa que creo."
   ]
  },
  {
   "cell_type": "markdown",
   "metadata": {},
   "source": [
    "a) Utilice model.summary() para describir la red que creo. Describa sus observaciones."
   ]
  },
  {
   "cell_type": "code",
   "execution_count": 3,
   "metadata": {},
   "outputs": [
    {
     "data": {
      "text/html": [
       "<pre style=\"white-space:pre;overflow-x:auto;line-height:normal;font-family:Menlo,'DejaVu Sans Mono',consolas,'Courier New',monospace\"><span style=\"font-weight: bold\">Model: \"functional\"</span>\n",
       "</pre>\n"
      ],
      "text/plain": [
       "\u001b[1mModel: \"functional\"\u001b[0m\n"
      ]
     },
     "metadata": {},
     "output_type": "display_data"
    },
    {
     "data": {
      "text/html": [
       "<pre style=\"white-space:pre;overflow-x:auto;line-height:normal;font-family:Menlo,'DejaVu Sans Mono',consolas,'Courier New',monospace\">┏━━━━━━━━━━━━━━━━━━━━━━━━━━━━━━━━━┳━━━━━━━━━━━━━━━━━━━━━━━━┳━━━━━━━━━━━━━━━┓\n",
       "┃<span style=\"font-weight: bold\"> Layer (type)                    </span>┃<span style=\"font-weight: bold\"> Output Shape           </span>┃<span style=\"font-weight: bold\">       Param # </span>┃\n",
       "┡━━━━━━━━━━━━━━━━━━━━━━━━━━━━━━━━━╇━━━━━━━━━━━━━━━━━━━━━━━━╇━━━━━━━━━━━━━━━┩\n",
       "│ input_layer (<span style=\"color: #0087ff; text-decoration-color: #0087ff\">InputLayer</span>)        │ (<span style=\"color: #00d7ff; text-decoration-color: #00d7ff\">None</span>, <span style=\"color: #00af00; text-decoration-color: #00af00\">28</span>, <span style=\"color: #00af00; text-decoration-color: #00af00\">28</span>, <span style=\"color: #00af00; text-decoration-color: #00af00\">1</span>)      │             <span style=\"color: #00af00; text-decoration-color: #00af00\">0</span> │\n",
       "├─────────────────────────────────┼────────────────────────┼───────────────┤\n",
       "│ conv2d (<span style=\"color: #0087ff; text-decoration-color: #0087ff\">Conv2D</span>)                 │ (<span style=\"color: #00d7ff; text-decoration-color: #00d7ff\">None</span>, <span style=\"color: #00af00; text-decoration-color: #00af00\">26</span>, <span style=\"color: #00af00; text-decoration-color: #00af00\">26</span>, <span style=\"color: #00af00; text-decoration-color: #00af00\">32</span>)     │           <span style=\"color: #00af00; text-decoration-color: #00af00\">320</span> │\n",
       "├─────────────────────────────────┼────────────────────────┼───────────────┤\n",
       "│ max_pooling2d (<span style=\"color: #0087ff; text-decoration-color: #0087ff\">MaxPooling2D</span>)    │ (<span style=\"color: #00d7ff; text-decoration-color: #00d7ff\">None</span>, <span style=\"color: #00af00; text-decoration-color: #00af00\">13</span>, <span style=\"color: #00af00; text-decoration-color: #00af00\">13</span>, <span style=\"color: #00af00; text-decoration-color: #00af00\">32</span>)     │             <span style=\"color: #00af00; text-decoration-color: #00af00\">0</span> │\n",
       "├─────────────────────────────────┼────────────────────────┼───────────────┤\n",
       "│ flatten (<span style=\"color: #0087ff; text-decoration-color: #0087ff\">Flatten</span>)               │ (<span style=\"color: #00d7ff; text-decoration-color: #00d7ff\">None</span>, <span style=\"color: #00af00; text-decoration-color: #00af00\">5408</span>)           │             <span style=\"color: #00af00; text-decoration-color: #00af00\">0</span> │\n",
       "├─────────────────────────────────┼────────────────────────┼───────────────┤\n",
       "│ dense (<span style=\"color: #0087ff; text-decoration-color: #0087ff\">Dense</span>)                   │ (<span style=\"color: #00d7ff; text-decoration-color: #00d7ff\">None</span>, <span style=\"color: #00af00; text-decoration-color: #00af00\">10</span>)             │        <span style=\"color: #00af00; text-decoration-color: #00af00\">54,090</span> │\n",
       "└─────────────────────────────────┴────────────────────────┴───────────────┘\n",
       "</pre>\n"
      ],
      "text/plain": [
       "┏━━━━━━━━━━━━━━━━━━━━━━━━━━━━━━━━━┳━━━━━━━━━━━━━━━━━━━━━━━━┳━━━━━━━━━━━━━━━┓\n",
       "┃\u001b[1m \u001b[0m\u001b[1mLayer (type)                   \u001b[0m\u001b[1m \u001b[0m┃\u001b[1m \u001b[0m\u001b[1mOutput Shape          \u001b[0m\u001b[1m \u001b[0m┃\u001b[1m \u001b[0m\u001b[1m      Param #\u001b[0m\u001b[1m \u001b[0m┃\n",
       "┡━━━━━━━━━━━━━━━━━━━━━━━━━━━━━━━━━╇━━━━━━━━━━━━━━━━━━━━━━━━╇━━━━━━━━━━━━━━━┩\n",
       "│ input_layer (\u001b[38;5;33mInputLayer\u001b[0m)        │ (\u001b[38;5;45mNone\u001b[0m, \u001b[38;5;34m28\u001b[0m, \u001b[38;5;34m28\u001b[0m, \u001b[38;5;34m1\u001b[0m)      │             \u001b[38;5;34m0\u001b[0m │\n",
       "├─────────────────────────────────┼────────────────────────┼───────────────┤\n",
       "│ conv2d (\u001b[38;5;33mConv2D\u001b[0m)                 │ (\u001b[38;5;45mNone\u001b[0m, \u001b[38;5;34m26\u001b[0m, \u001b[38;5;34m26\u001b[0m, \u001b[38;5;34m32\u001b[0m)     │           \u001b[38;5;34m320\u001b[0m │\n",
       "├─────────────────────────────────┼────────────────────────┼───────────────┤\n",
       "│ max_pooling2d (\u001b[38;5;33mMaxPooling2D\u001b[0m)    │ (\u001b[38;5;45mNone\u001b[0m, \u001b[38;5;34m13\u001b[0m, \u001b[38;5;34m13\u001b[0m, \u001b[38;5;34m32\u001b[0m)     │             \u001b[38;5;34m0\u001b[0m │\n",
       "├─────────────────────────────────┼────────────────────────┼───────────────┤\n",
       "│ flatten (\u001b[38;5;33mFlatten\u001b[0m)               │ (\u001b[38;5;45mNone\u001b[0m, \u001b[38;5;34m5408\u001b[0m)           │             \u001b[38;5;34m0\u001b[0m │\n",
       "├─────────────────────────────────┼────────────────────────┼───────────────┤\n",
       "│ dense (\u001b[38;5;33mDense\u001b[0m)                   │ (\u001b[38;5;45mNone\u001b[0m, \u001b[38;5;34m10\u001b[0m)             │        \u001b[38;5;34m54,090\u001b[0m │\n",
       "└─────────────────────────────────┴────────────────────────┴───────────────┘\n"
      ]
     },
     "metadata": {},
     "output_type": "display_data"
    },
    {
     "data": {
      "text/html": [
       "<pre style=\"white-space:pre;overflow-x:auto;line-height:normal;font-family:Menlo,'DejaVu Sans Mono',consolas,'Courier New',monospace\"><span style=\"font-weight: bold\"> Total params: </span><span style=\"color: #00af00; text-decoration-color: #00af00\">54,410</span> (212.54 KB)\n",
       "</pre>\n"
      ],
      "text/plain": [
       "\u001b[1m Total params: \u001b[0m\u001b[38;5;34m54,410\u001b[0m (212.54 KB)\n"
      ]
     },
     "metadata": {},
     "output_type": "display_data"
    },
    {
     "data": {
      "text/html": [
       "<pre style=\"white-space:pre;overflow-x:auto;line-height:normal;font-family:Menlo,'DejaVu Sans Mono',consolas,'Courier New',monospace\"><span style=\"font-weight: bold\"> Trainable params: </span><span style=\"color: #00af00; text-decoration-color: #00af00\">54,410</span> (212.54 KB)\n",
       "</pre>\n"
      ],
      "text/plain": [
       "\u001b[1m Trainable params: \u001b[0m\u001b[38;5;34m54,410\u001b[0m (212.54 KB)\n"
      ]
     },
     "metadata": {},
     "output_type": "display_data"
    },
    {
     "data": {
      "text/html": [
       "<pre style=\"white-space:pre;overflow-x:auto;line-height:normal;font-family:Menlo,'DejaVu Sans Mono',consolas,'Courier New',monospace\"><span style=\"font-weight: bold\"> Non-trainable params: </span><span style=\"color: #00af00; text-decoration-color: #00af00\">0</span> (0.00 B)\n",
       "</pre>\n"
      ],
      "text/plain": [
       "\u001b[1m Non-trainable params: \u001b[0m\u001b[38;5;34m0\u001b[0m (0.00 B)\n"
      ]
     },
     "metadata": {},
     "output_type": "display_data"
    }
   ],
   "source": [
    "model.summary()"
   ]
  },
  {
   "cell_type": "markdown",
   "metadata": {},
   "source": [
    "Este resumen describe cómo se creó y estructuró esta red neuronal convolucional, especificando el tipo de red, las dimensiones de entrada y salida de cada capa, y la cantidad de parámetros que se estiman para que la red aprenda. A continuación, se describe cada capa en detalle:\n",
    "\n",
    "Capa de Entrada (Input Layer): La primera capa de la red tiene una entrada de tamaño 28×28. Esta capa prepara las imágenes para que la red pueda procesarlas y aprender de ellas.\n",
    "\n",
    "Capa Convolucional 2D (Conv2D Layer): Esta capa realiza operaciones de convolución en las imágenes. Genera una salida de tamaño 26×26 al aplicar 32 filtros, lo que permite capturar características específicas de las imágenes. La capa usa 320 parámetros, los cuales se entrenan para extraer patrones relevantes en los datos de entrada.\n",
    "\n",
    "Capa de MaxPooling 2D: En esta capa se reduce la dimensionalidad de los datos mediante una operación de agrupamiento, obteniendo una salida de tamaño 13×13. Mantiene los 32 mapas de características, lo que ayuda a reducir la complejidad del modelo sin perder información importante.\n",
    "\n",
    "Capa de Flatten: Convierte la salida 3D de la capa de MaxPooling en un vector 1D de 5,408 elementos, preparándola para las capas completamente conectadas que siguen. Esta capa facilita que los datos pasen a las capas densas para la clasificación final.\n",
    "\n",
    "Capa Densa (Dense Layer): La última capa es una capa densa o completamente conectada con 10 neuronas, donde cada neurona representa una clase de predicción. Esta capa permite asociar los patrones aprendidos en las capas anteriores con las posibles clases de salida (por ejemplo, los dígitos del 0 al 9 en el caso de reconocimiento de dígitos).\n",
    "\n",
    "El modelo completo tiene un total de 54,410 parámetros, todos entrenables, lo que significa que cada parámetro se ajusta durante el entrenamiento"
   ]
  },
  {
   "cell_type": "markdown",
   "metadata": {},
   "source": [
    "b) Pruebe el modelo definido arriba para sus datos de prueba. Utilice sparse_categorical_crossentropy como funcion de costo/p ́erdida. Describa sus observaciones ¿Cual es el mejor desempeno que logra con su red?"
   ]
  },
  {
   "cell_type": "code",
   "execution_count": 4,
   "metadata": {},
   "outputs": [
    {
     "name": "stdout",
     "output_type": "stream",
     "text": [
      "Epoch 1/30\n",
      "\u001b[1m1875/1875\u001b[0m \u001b[32m━━━━━━━━━━━━━━━━━━━━\u001b[0m\u001b[37m\u001b[0m \u001b[1m19s\u001b[0m 9ms/step - accuracy: 0.8873 - loss: 0.4100 - val_accuracy: 0.9747 - val_loss: 0.0866\n",
      "Epoch 2/30\n",
      "\u001b[1m1875/1875\u001b[0m \u001b[32m━━━━━━━━━━━━━━━━━━━━\u001b[0m\u001b[37m\u001b[0m \u001b[1m17s\u001b[0m 9ms/step - accuracy: 0.9763 - loss: 0.0828 - val_accuracy: 0.9766 - val_loss: 0.0776\n",
      "Epoch 3/30\n",
      "\u001b[1m1875/1875\u001b[0m \u001b[32m━━━━━━━━━━━━━━━━━━━━\u001b[0m\u001b[37m\u001b[0m \u001b[1m18s\u001b[0m 10ms/step - accuracy: 0.9829 - loss: 0.0596 - val_accuracy: 0.9806 - val_loss: 0.0616\n",
      "Epoch 4/30\n",
      "\u001b[1m1875/1875\u001b[0m \u001b[32m━━━━━━━━━━━━━━━━━━━━\u001b[0m\u001b[37m\u001b[0m \u001b[1m14s\u001b[0m 7ms/step - accuracy: 0.9851 - loss: 0.0498 - val_accuracy: 0.9812 - val_loss: 0.0567\n",
      "Epoch 5/30\n",
      "\u001b[1m1875/1875\u001b[0m \u001b[32m━━━━━━━━━━━━━━━━━━━━\u001b[0m\u001b[37m\u001b[0m \u001b[1m13s\u001b[0m 7ms/step - accuracy: 0.9865 - loss: 0.0435 - val_accuracy: 0.9838 - val_loss: 0.0518\n",
      "Epoch 6/30\n",
      "\u001b[1m1875/1875\u001b[0m \u001b[32m━━━━━━━━━━━━━━━━━━━━\u001b[0m\u001b[37m\u001b[0m \u001b[1m14s\u001b[0m 7ms/step - accuracy: 0.9893 - loss: 0.0333 - val_accuracy: 0.9832 - val_loss: 0.0549\n",
      "Epoch 7/30\n",
      "\u001b[1m1875/1875\u001b[0m \u001b[32m━━━━━━━━━━━━━━━━━━━━\u001b[0m\u001b[37m\u001b[0m \u001b[1m14s\u001b[0m 7ms/step - accuracy: 0.9911 - loss: 0.0303 - val_accuracy: 0.9825 - val_loss: 0.0547\n",
      "Epoch 8/30\n",
      "\u001b[1m1875/1875\u001b[0m \u001b[32m━━━━━━━━━━━━━━━━━━━━\u001b[0m\u001b[37m\u001b[0m \u001b[1m22s\u001b[0m 8ms/step - accuracy: 0.9925 - loss: 0.0242 - val_accuracy: 0.9845 - val_loss: 0.0497\n",
      "Epoch 9/30\n",
      "\u001b[1m1875/1875\u001b[0m \u001b[32m━━━━━━━━━━━━━━━━━━━━\u001b[0m\u001b[37m\u001b[0m \u001b[1m17s\u001b[0m 9ms/step - accuracy: 0.9940 - loss: 0.0207 - val_accuracy: 0.9836 - val_loss: 0.0569\n",
      "Epoch 10/30\n",
      "\u001b[1m1875/1875\u001b[0m \u001b[32m━━━━━━━━━━━━━━━━━━━━\u001b[0m\u001b[37m\u001b[0m \u001b[1m14s\u001b[0m 8ms/step - accuracy: 0.9953 - loss: 0.0164 - val_accuracy: 0.9818 - val_loss: 0.0611\n",
      "Epoch 11/30\n",
      "\u001b[1m1875/1875\u001b[0m \u001b[32m━━━━━━━━━━━━━━━━━━━━\u001b[0m\u001b[37m\u001b[0m \u001b[1m16s\u001b[0m 8ms/step - accuracy: 0.9959 - loss: 0.0144 - val_accuracy: 0.9835 - val_loss: 0.0588\n",
      "Epoch 12/30\n",
      "\u001b[1m1875/1875\u001b[0m \u001b[32m━━━━━━━━━━━━━━━━━━━━\u001b[0m\u001b[37m\u001b[0m \u001b[1m15s\u001b[0m 8ms/step - accuracy: 0.9963 - loss: 0.0121 - val_accuracy: 0.9824 - val_loss: 0.0623\n",
      "Epoch 13/30\n",
      "\u001b[1m1875/1875\u001b[0m \u001b[32m━━━━━━━━━━━━━━━━━━━━\u001b[0m\u001b[37m\u001b[0m \u001b[1m13s\u001b[0m 7ms/step - accuracy: 0.9972 - loss: 0.0102 - val_accuracy: 0.9840 - val_loss: 0.0562\n",
      "Epoch 14/30\n",
      "\u001b[1m1875/1875\u001b[0m \u001b[32m━━━━━━━━━━━━━━━━━━━━\u001b[0m\u001b[37m\u001b[0m \u001b[1m12s\u001b[0m 7ms/step - accuracy: 0.9974 - loss: 0.0098 - val_accuracy: 0.9828 - val_loss: 0.0653\n",
      "Epoch 15/30\n",
      "\u001b[1m1875/1875\u001b[0m \u001b[32m━━━━━━━━━━━━━━━━━━━━\u001b[0m\u001b[37m\u001b[0m \u001b[1m16s\u001b[0m 9ms/step - accuracy: 0.9978 - loss: 0.0084 - val_accuracy: 0.9825 - val_loss: 0.0661\n",
      "Epoch 16/30\n",
      "\u001b[1m1875/1875\u001b[0m \u001b[32m━━━━━━━━━━━━━━━━━━━━\u001b[0m\u001b[37m\u001b[0m \u001b[1m15s\u001b[0m 8ms/step - accuracy: 0.9980 - loss: 0.0073 - val_accuracy: 0.9829 - val_loss: 0.0719\n",
      "Epoch 17/30\n",
      "\u001b[1m1875/1875\u001b[0m \u001b[32m━━━━━━━━━━━━━━━━━━━━\u001b[0m\u001b[37m\u001b[0m \u001b[1m15s\u001b[0m 8ms/step - accuracy: 0.9990 - loss: 0.0050 - val_accuracy: 0.9804 - val_loss: 0.0819\n",
      "Epoch 18/30\n",
      "\u001b[1m1875/1875\u001b[0m \u001b[32m━━━━━━━━━━━━━━━━━━━━\u001b[0m\u001b[37m\u001b[0m \u001b[1m14s\u001b[0m 7ms/step - accuracy: 0.9989 - loss: 0.0046 - val_accuracy: 0.9822 - val_loss: 0.0759\n",
      "Epoch 19/30\n",
      "\u001b[1m1875/1875\u001b[0m \u001b[32m━━━━━━━━━━━━━━━━━━━━\u001b[0m\u001b[37m\u001b[0m \u001b[1m13s\u001b[0m 7ms/step - accuracy: 0.9991 - loss: 0.0038 - val_accuracy: 0.9825 - val_loss: 0.0762\n",
      "Epoch 20/30\n",
      "\u001b[1m1875/1875\u001b[0m \u001b[32m━━━━━━━━━━━━━━━━━━━━\u001b[0m\u001b[37m\u001b[0m \u001b[1m13s\u001b[0m 7ms/step - accuracy: 0.9989 - loss: 0.0041 - val_accuracy: 0.9833 - val_loss: 0.0774\n",
      "Epoch 21/30\n",
      "\u001b[1m1875/1875\u001b[0m \u001b[32m━━━━━━━━━━━━━━━━━━━━\u001b[0m\u001b[37m\u001b[0m \u001b[1m14s\u001b[0m 7ms/step - accuracy: 0.9991 - loss: 0.0035 - val_accuracy: 0.9801 - val_loss: 0.0939\n",
      "Epoch 22/30\n",
      "\u001b[1m1875/1875\u001b[0m \u001b[32m━━━━━━━━━━━━━━━━━━━━\u001b[0m\u001b[37m\u001b[0m \u001b[1m14s\u001b[0m 7ms/step - accuracy: 0.9992 - loss: 0.0033 - val_accuracy: 0.9818 - val_loss: 0.0853\n",
      "Epoch 23/30\n",
      "\u001b[1m1875/1875\u001b[0m \u001b[32m━━━━━━━━━━━━━━━━━━━━\u001b[0m\u001b[37m\u001b[0m \u001b[1m13s\u001b[0m 7ms/step - accuracy: 0.9994 - loss: 0.0024 - val_accuracy: 0.9826 - val_loss: 0.0881\n",
      "Epoch 24/30\n",
      "\u001b[1m1875/1875\u001b[0m \u001b[32m━━━━━━━━━━━━━━━━━━━━\u001b[0m\u001b[37m\u001b[0m \u001b[1m14s\u001b[0m 7ms/step - accuracy: 0.9995 - loss: 0.0024 - val_accuracy: 0.9823 - val_loss: 0.0856\n",
      "Epoch 25/30\n",
      "\u001b[1m1875/1875\u001b[0m \u001b[32m━━━━━━━━━━━━━━━━━━━━\u001b[0m\u001b[37m\u001b[0m \u001b[1m14s\u001b[0m 7ms/step - accuracy: 0.9998 - loss: 0.0016 - val_accuracy: 0.9831 - val_loss: 0.0860\n",
      "Epoch 26/30\n",
      "\u001b[1m1875/1875\u001b[0m \u001b[32m━━━━━━━━━━━━━━━━━━━━\u001b[0m\u001b[37m\u001b[0m \u001b[1m13s\u001b[0m 7ms/step - accuracy: 0.9994 - loss: 0.0024 - val_accuracy: 0.9835 - val_loss: 0.0868\n",
      "Epoch 27/30\n",
      "\u001b[1m1875/1875\u001b[0m \u001b[32m━━━━━━━━━━━━━━━━━━━━\u001b[0m\u001b[37m\u001b[0m \u001b[1m14s\u001b[0m 7ms/step - accuracy: 0.9995 - loss: 0.0020 - val_accuracy: 0.9826 - val_loss: 0.0921\n",
      "Epoch 28/30\n",
      "\u001b[1m1875/1875\u001b[0m \u001b[32m━━━━━━━━━━━━━━━━━━━━\u001b[0m\u001b[37m\u001b[0m \u001b[1m13s\u001b[0m 7ms/step - accuracy: 0.9998 - loss: 0.0012 - val_accuracy: 0.9830 - val_loss: 0.0932\n",
      "Epoch 29/30\n",
      "\u001b[1m1875/1875\u001b[0m \u001b[32m━━━━━━━━━━━━━━━━━━━━\u001b[0m\u001b[37m\u001b[0m \u001b[1m13s\u001b[0m 7ms/step - accuracy: 0.9995 - loss: 0.0023 - val_accuracy: 0.9831 - val_loss: 0.0901\n",
      "Epoch 30/30\n",
      "\u001b[1m1875/1875\u001b[0m \u001b[32m━━━━━━━━━━━━━━━━━━━━\u001b[0m\u001b[37m\u001b[0m \u001b[1m13s\u001b[0m 7ms/step - accuracy: 0.9999 - loss: 9.0485e-04 - val_accuracy: 0.9835 - val_loss: 0.0906\n"
     ]
    }
   ],
   "source": [
    "model.compile(optimizer='adam', \n",
    "              loss='sparse_categorical_crossentropy', \n",
    "              metrics=['accuracy'])\n",
    "\n",
    "history = model.fit(train_images, train_labels, epochs=30, batch_size=32, validation_data=(test_images, test_labels))\n",
    "\n",
    "train_loss = history.history['loss']\n",
    "val_loss = history.history['val_loss']"
   ]
  },
  {
   "cell_type": "code",
   "execution_count": 5,
   "metadata": {},
   "outputs": [
    {
     "data": {
      "image/png": "[encoded data removed]",
      "text/plain": [
       "<Figure size 1000x600 with 1 Axes>"
      ]
     },
     "metadata": {},
     "output_type": "display_data"
    }
   ],
   "source": [
    "import matplotlib.pyplot as plt\n",
    "\n",
    "# Graficar la pérdida de entrenamiento y validación\n",
    "plt.figure(figsize=(10, 6))\n",
    "plt.plot(train_loss, label='Pérdida de Entrenamiento')\n",
    "plt.plot(val_loss, label='Pérdida de Validación')\n",
    "plt.xlabel('Épocas')\n",
    "plt.ylabel('Pérdida')\n",
    "plt.title('Pérdida de Entrenamiento y Validación')\n",
    "plt.legend()\n",
    "plt.show()"
   ]
  },
  {
   "cell_type": "markdown",
   "metadata": {},
   "source": [
    "Esta grafica nos ayuda a detectar posibles problemas de sobreajuste para determinar que tan alejado ese valor de perdida con el entrenamiento y de validacion, aunque graficamente da parecer que la diferencia es amplio pero en general menor de 0.01 por lo que problemas de sobreajuste realmente la red no la tiene pero si escogieramos por rendimiento, por costo computacional, tambien por evitar problema de sobreajuste podriamos elegir los resultados hasta la epoca 7 que funciona de manera muy similar si trabajaramos con 30 epocas."
   ]
  },
  {
   "cell_type": "code",
   "execution_count": 6,
   "metadata": {},
   "outputs": [
    {
     "name": "stdout",
     "output_type": "stream",
     "text": [
      "Pérdida de Entrenamiento: 0.0307844877243042\n",
      "Pérdida de Validación: 0.0546615794301033\n",
      "Precisión de Entrenamiento: 0.9908666610717773\n",
      "Precisión de Validación: 0.9825000166893005\n"
     ]
    }
   ],
   "source": [
    "train_loss_epoch = history.history['loss'][6]\n",
    "val_loss_epoch = history.history['val_loss'][6]\n",
    "train_accuracy_epoch = history.history['accuracy'][6]\n",
    "val_accuracy_epoch = history.history['val_accuracy'][6]\n",
    "\n",
    "print(f\"Pérdida de Entrenamiento: {train_loss_epoch}\")\n",
    "print(f\"Pérdida de Validación: {val_loss_epoch}\")\n",
    "print(f\"Precisión de Entrenamiento: {train_accuracy_epoch}\")\n",
    "print(f\"Precisión de Validación: {val_accuracy_epoch}\")"
   ]
  },
  {
   "cell_type": "markdown",
   "metadata": {},
   "source": [
    "Observando los resultados vemos que la diferencia entre los valores de perdida son bajos y para la precision de entrenamiento como validacion podemos identficar que realmente la red se encuentra muy bien entrenada y que la prediciones llegan a ser bastante precisas"
   ]
  },
  {
   "cell_type": "markdown",
   "metadata": {},
   "source": [
    "c) (15 ptos) Divida de su conjunto de prueba en 2 para disponer de un conjunto de validacion. Incluya un par de capas convolucionales (con sus respectivas capas de pooling) adicionales en su red y un par de capas densas antes del output. Experimente con los hiperparametros y describa sus mejores resultados (su mejor red deberıa superar el 98.5% - 99% de acierto)."
   ]
  },
  {
   "cell_type": "code",
   "execution_count": 7,
   "metadata": {},
   "outputs": [
    {
     "name": "stdout",
     "output_type": "stream",
     "text": [
      "\n",
      "Entrenando el Modelo 1 con filtros [8, 8, 8]\n",
      "Epoch 1/7\n",
      "\u001b[1m1875/1875\u001b[0m \u001b[32m━━━━━━━━━━━━━━━━━━━━\u001b[0m\u001b[37m\u001b[0m \u001b[1m15s\u001b[0m 6ms/step - accuracy: 0.7170 - loss: 0.8591 - val_accuracy: 0.9295 - val_loss: 0.2282\n",
      "Epoch 2/7\n",
      "\u001b[1m1875/1875\u001b[0m \u001b[32m━━━━━━━━━━━━━━━━━━━━\u001b[0m\u001b[37m\u001b[0m \u001b[1m10s\u001b[0m 5ms/step - accuracy: 0.9256 - loss: 0.2369 - val_accuracy: 0.9432 - val_loss: 0.1849\n",
      "Epoch 3/7\n",
      "\u001b[1m1875/1875\u001b[0m \u001b[32m━━━━━━━━━━━━━━━━━━━━\u001b[0m\u001b[37m\u001b[0m \u001b[1m9s\u001b[0m 5ms/step - accuracy: 0.9449 - loss: 0.1791 - val_accuracy: 0.9468 - val_loss: 0.1720\n",
      "Epoch 4/7\n",
      "\u001b[1m1875/1875\u001b[0m \u001b[32m━━━━━━━━━━━━━━━━━━━━\u001b[0m\u001b[37m\u001b[0m \u001b[1m8s\u001b[0m 4ms/step - accuracy: 0.9530 - loss: 0.1543 - val_accuracy: 0.9596 - val_loss: 0.1346\n",
      "Epoch 5/7\n",
      "\u001b[1m1875/1875\u001b[0m \u001b[32m━━━━━━━━━━━━━━━━━━━━\u001b[0m\u001b[37m\u001b[0m \u001b[1m9s\u001b[0m 5ms/step - accuracy: 0.9569 - loss: 0.1355 - val_accuracy: 0.9613 - val_loss: 0.1225\n",
      "Epoch 6/7\n",
      "\u001b[1m1875/1875\u001b[0m \u001b[32m━━━━━━━━━━━━━━━━━━━━\u001b[0m\u001b[37m\u001b[0m \u001b[1m12s\u001b[0m 6ms/step - accuracy: 0.9607 - loss: 0.1233 - val_accuracy: 0.9647 - val_loss: 0.1124\n",
      "Epoch 7/7\n",
      "\u001b[1m1875/1875\u001b[0m \u001b[32m━━━━━━━━━━━━━━━━━━━━\u001b[0m\u001b[37m\u001b[0m \u001b[1m14s\u001b[0m 7ms/step - accuracy: 0.9620 - loss: 0.1179 - val_accuracy: 0.9657 - val_loss: 0.1150\n",
      "\u001b[1m313/313\u001b[0m \u001b[32m━━━━━━━━━━━━━━━━━━━━\u001b[0m\u001b[37m\u001b[0m \u001b[1m1s\u001b[0m 2ms/step - accuracy: 0.9595 - loss: 0.1349\n",
      "Pérdida en el conjunto de prueba del Modelo 1: 0.11502347141504288\n",
      "Precisión en el conjunto de prueba del Modelo 1: 96.57%\n",
      "\n",
      "Entrenando el Modelo 2 con filtros [16, 16, 16]\n",
      "Epoch 1/7\n",
      "\u001b[1m1875/1875\u001b[0m \u001b[32m━━━━━━━━━━━━━━━━━━━━\u001b[0m\u001b[37m\u001b[0m \u001b[1m16s\u001b[0m 7ms/step - accuracy: 0.7497 - loss: 0.7564 - val_accuracy: 0.9450 - val_loss: 0.1660\n",
      "Epoch 2/7\n",
      "\u001b[1m1875/1875\u001b[0m \u001b[32m━━━━━━━━━━━━━━━━━━━━\u001b[0m\u001b[37m\u001b[0m \u001b[1m12s\u001b[0m 6ms/step - accuracy: 0.9513 - loss: 0.1542 - val_accuracy: 0.9621 - val_loss: 0.1263\n",
      "Epoch 3/7\n",
      "\u001b[1m1875/1875\u001b[0m \u001b[32m━━━━━━━━━━━━━━━━━━━━\u001b[0m\u001b[37m\u001b[0m \u001b[1m12s\u001b[0m 6ms/step - accuracy: 0.9651 - loss: 0.1140 - val_accuracy: 0.9729 - val_loss: 0.0853\n",
      "Epoch 4/7\n",
      "\u001b[1m1875/1875\u001b[0m \u001b[32m━━━━━━━━━━━━━━━━━━━━\u001b[0m\u001b[37m\u001b[0m \u001b[1m15s\u001b[0m 8ms/step - accuracy: 0.9713 - loss: 0.0935 - val_accuracy: 0.9716 - val_loss: 0.0885\n",
      "Epoch 5/7\n",
      "\u001b[1m1875/1875\u001b[0m \u001b[32m━━━━━━━━━━━━━━━━━━━━\u001b[0m\u001b[37m\u001b[0m \u001b[1m14s\u001b[0m 7ms/step - accuracy: 0.9744 - loss: 0.0827 - val_accuracy: 0.9729 - val_loss: 0.0840\n",
      "Epoch 6/7\n",
      "\u001b[1m1875/1875\u001b[0m \u001b[32m━━━━━━━━━━━━━━━━━━━━\u001b[0m\u001b[37m\u001b[0m \u001b[1m13s\u001b[0m 7ms/step - accuracy: 0.9788 - loss: 0.0695 - val_accuracy: 0.9790 - val_loss: 0.0725\n",
      "Epoch 7/7\n",
      "\u001b[1m1875/1875\u001b[0m \u001b[32m━━━━━━━━━━━━━━━━━━━━\u001b[0m\u001b[37m\u001b[0m \u001b[1m14s\u001b[0m 7ms/step - accuracy: 0.9795 - loss: 0.0645 - val_accuracy: 0.9806 - val_loss: 0.0647\n",
      "\u001b[1m313/313\u001b[0m \u001b[32m━━━━━━━━━━━━━━━━━━━━\u001b[0m\u001b[37m\u001b[0m \u001b[1m1s\u001b[0m 4ms/step - accuracy: 0.9770 - loss: 0.0783\n",
      "Pérdida en el conjunto de prueba del Modelo 2: 0.064697265625\n",
      "Precisión en el conjunto de prueba del Modelo 2: 98.06%\n",
      "\n",
      "Entrenando el Modelo 3 con filtros [32, 32, 32]\n",
      "Epoch 1/7\n",
      "\u001b[1m1875/1875\u001b[0m \u001b[32m━━━━━━━━━━━━━━━━━━━━\u001b[0m\u001b[37m\u001b[0m \u001b[1m26s\u001b[0m 13ms/step - accuracy: 0.8244 - loss: 0.5592 - val_accuracy: 0.9691 - val_loss: 0.1013\n",
      "Epoch 2/7\n",
      "\u001b[1m1875/1875\u001b[0m \u001b[32m━━━━━━━━━━━━━━━━━━━━\u001b[0m\u001b[37m\u001b[0m \u001b[1m24s\u001b[0m 13ms/step - accuracy: 0.9684 - loss: 0.1023 - val_accuracy: 0.9763 - val_loss: 0.0818\n",
      "Epoch 3/7\n",
      "\u001b[1m1875/1875\u001b[0m \u001b[32m━━━━━━━━━━━━━━━━━━━━\u001b[0m\u001b[37m\u001b[0m \u001b[1m20s\u001b[0m 11ms/step - accuracy: 0.9784 - loss: 0.0720 - val_accuracy: 0.9812 - val_loss: 0.0617\n",
      "Epoch 4/7\n",
      "\u001b[1m1875/1875\u001b[0m \u001b[32m━━━━━━━━━━━━━━━━━━━━\u001b[0m\u001b[37m\u001b[0m \u001b[1m20s\u001b[0m 11ms/step - accuracy: 0.9816 - loss: 0.0583 - val_accuracy: 0.9787 - val_loss: 0.0659\n",
      "Epoch 5/7\n",
      "\u001b[1m1875/1875\u001b[0m \u001b[32m━━━━━━━━━━━━━━━━━━━━\u001b[0m\u001b[37m\u001b[0m \u001b[1m24s\u001b[0m 13ms/step - accuracy: 0.9850 - loss: 0.0481 - val_accuracy: 0.9747 - val_loss: 0.0850\n",
      "Epoch 6/7\n",
      "\u001b[1m1875/1875\u001b[0m \u001b[32m━━━━━━━━━━━━━━━━━━━━\u001b[0m\u001b[37m\u001b[0m \u001b[1m24s\u001b[0m 13ms/step - accuracy: 0.9865 - loss: 0.0425 - val_accuracy: 0.9793 - val_loss: 0.0691\n",
      "Epoch 7/7\n",
      "\u001b[1m1875/1875\u001b[0m \u001b[32m━━━━━━━━━━━━━━━━━━━━\u001b[0m\u001b[37m\u001b[0m \u001b[1m25s\u001b[0m 13ms/step - accuracy: 0.9882 - loss: 0.0371 - val_accuracy: 0.9848 - val_loss: 0.0536\n",
      "\u001b[1m313/313\u001b[0m \u001b[32m━━━━━━━━━━━━━━━━━━━━\u001b[0m\u001b[37m\u001b[0m \u001b[1m2s\u001b[0m 7ms/step - accuracy: 0.9813 - loss: 0.0668\n",
      "Pérdida en el conjunto de prueba del Modelo 3: 0.05358230695128441\n",
      "Precisión en el conjunto de prueba del Modelo 3: 98.48%\n",
      "\n",
      "Entrenando el Modelo 4 con filtros [64, 64, 64]\n",
      "Epoch 1/7\n",
      "\u001b[1m1875/1875\u001b[0m \u001b[32m━━━━━━━━━━━━━━━━━━━━\u001b[0m\u001b[37m\u001b[0m \u001b[1m51s\u001b[0m 25ms/step - accuracy: 0.8521 - loss: 0.4583 - val_accuracy: 0.9787 - val_loss: 0.0700\n",
      "Epoch 2/7\n",
      "\u001b[1m1875/1875\u001b[0m \u001b[32m━━━━━━━━━━━━━━━━━━━━\u001b[0m\u001b[37m\u001b[0m \u001b[1m47s\u001b[0m 25ms/step - accuracy: 0.9769 - loss: 0.0751 - val_accuracy: 0.9847 - val_loss: 0.0505\n",
      "Epoch 3/7\n",
      "\u001b[1m1875/1875\u001b[0m \u001b[32m━━━━━━━━━━━━━━━━━━━━\u001b[0m\u001b[37m\u001b[0m \u001b[1m47s\u001b[0m 25ms/step - accuracy: 0.9843 - loss: 0.0510 - val_accuracy: 0.9845 - val_loss: 0.0517\n",
      "Epoch 4/7\n",
      "\u001b[1m1875/1875\u001b[0m \u001b[32m━━━━━━━━━━━━━━━━━━━━\u001b[0m\u001b[37m\u001b[0m \u001b[1m40s\u001b[0m 21ms/step - accuracy: 0.9882 - loss: 0.0379 - val_accuracy: 0.9848 - val_loss: 0.0476\n",
      "Epoch 5/7\n",
      "\u001b[1m1875/1875\u001b[0m \u001b[32m━━━━━━━━━━━━━━━━━━━━\u001b[0m\u001b[37m\u001b[0m \u001b[1m37s\u001b[0m 20ms/step - accuracy: 0.9900 - loss: 0.0313 - val_accuracy: 0.9886 - val_loss: 0.0403\n",
      "Epoch 6/7\n",
      "\u001b[1m1875/1875\u001b[0m \u001b[32m━━━━━━━━━━━━━━━━━━━━\u001b[0m\u001b[37m\u001b[0m \u001b[1m36s\u001b[0m 19ms/step - accuracy: 0.9921 - loss: 0.0250 - val_accuracy: 0.9837 - val_loss: 0.0548\n",
      "Epoch 7/7\n",
      "\u001b[1m1875/1875\u001b[0m \u001b[32m━━━━━━━━━━━━━━━━━━━━\u001b[0m\u001b[37m\u001b[0m \u001b[1m36s\u001b[0m 19ms/step - accuracy: 0.9931 - loss: 0.0218 - val_accuracy: 0.9869 - val_loss: 0.0516\n",
      "\u001b[1m313/313\u001b[0m \u001b[32m━━━━━━━━━━━━━━━━━━━━\u001b[0m\u001b[37m\u001b[0m \u001b[1m2s\u001b[0m 7ms/step - accuracy: 0.9840 - loss: 0.0651\n",
      "Pérdida en el conjunto de prueba del Modelo 4: 0.051628611981868744\n",
      "Precisión en el conjunto de prueba del Modelo 4: 98.69%\n"
     ]
    }
   ],
   "source": [
    "# Función para crear el modelo\n",
    "def create_model(filters):\n",
    "    inputs = keras.Input(shape=(28, 28, 1))\n",
    "    x = layers.Conv2D(filters=filters[0], kernel_size=3, activation=\"relu\")(inputs)\n",
    "    x = layers.MaxPooling2D(pool_size=2)(x)\n",
    "\n",
    "    x = layers.Conv2D(filters=filters[1], kernel_size=3, activation=\"relu\")(x)\n",
    "    x = layers.MaxPooling2D(pool_size=2)(x)\n",
    "\n",
    "    x = layers.Conv2D(filters=filters[2], kernel_size=3, activation=\"relu\")(x)\n",
    "    x = layers.MaxPooling2D(pool_size=2)(x)\n",
    "\n",
    "    x = layers.Flatten()(x)\n",
    "    x = layers.Dense(64, activation='relu')(x)\n",
    "    x = layers.Dense(64, activation='relu')(x)\n",
    "\n",
    "    outputs = layers.Dense(10, activation=\"softmax\")(x)\n",
    "\n",
    "    model = keras.Model(inputs=inputs, outputs=outputs)\n",
    "    model.compile(optimizer='adam', loss='sparse_categorical_crossentropy', metrics=['accuracy'])\n",
    "\n",
    "    return model\n",
    "\n",
    "# Filtros para diferentes modelos\n",
    "filters_list = [\n",
    "    [8, 8, 8],  # Modelo 1\n",
    "    [16, 16, 16],  # Modelo 2\n",
    "    [32, 32, 32],  # Modelo 3\n",
    "    [64, 64, 64],  # Modelo 3\n",
    "]\n",
    "\n",
    "# Entrenamiento y evaluación de cada modelo\n",
    "history_dict = {}\n",
    "\n",
    "for i, filters in enumerate(filters_list):\n",
    "    print(f\"\\nEntrenando el Modelo {i+1} con filtros {filters}\")\n",
    "    model = create_model(filters)\n",
    "    \n",
    "    # Entrenamiento\n",
    "    history = model.fit(train_images, train_labels, epochs=7, batch_size=32, validation_data=(test_images, test_labels))\n",
    "    \n",
    "    # Guardar el historial\n",
    "    history_dict[f\"model_{i+1}\"] = history\n",
    "    \n",
    "    # Evaluar el modelo\n",
    "    test_loss, test_accuracy = model.evaluate(test_images, test_labels)\n",
    "    print(f\"Pérdida en el conjunto de prueba del Modelo {i+1}: {test_loss}\")\n",
    "    print(f\"Precisión en el conjunto de prueba del Modelo {i+1}: {test_accuracy * 100:.2f}%\")"
   ]
  },
  {
   "cell_type": "markdown",
   "metadata": {},
   "source": [
    "Comose expreso en el inciso del punto se agregaron las nuevas capas convollucionales y polling y tambien como las capas densas, con la diferencias que cada modelo manejas dentro de sus capas filtros diferentes entonces el modelo cada capa conlucionales manejo un filtro 8, 16, 32 y 64 respectivamente, entonces los resultados fueron los siguientes y como en el ejercicio anterior no dimos cuenta que dese la epoca 7 se entrena bien y no genere sobreajuste cada moleto tiene esa misma cantidad de epocas. Ahora bien mostremos los resultados:\n",
    "\n",
    "Modelo 1: Precision del 96.57%\n",
    "Modelo 2: Precision del 98.06%\n",
    "Modelo 3: Precision del 98.48%\n",
    "Modelo 4: Precision del 98.69%\n",
    "\n",
    "Como podemos ver de los resultados es conforme vamos aumentando los filtros a utilizar en la capas convolucionales permite entender que ayuda a la red a ser precisa e igualmente estar pendiente en que momento este parametro puede estar teniendo problemas en cuanto a costo computacional o temas de sobreajuste."
   ]
  },
  {
   "cell_type": "markdown",
   "metadata": {},
   "source": [
    "d) Experimente con variantes del pooling utilizado (puede probar otros tamaños de ventana y utilizar tambien L2 pooling). Describa sus resultados."
   ]
  },
  {
   "cell_type": "code",
   "execution_count": 10,
   "metadata": {},
   "outputs": [
    {
     "name": "stdout",
     "output_type": "stream",
     "text": [
      "\n",
      "Entrenando modelo 1 con max pooling y tamaño (2, 2)\n",
      "\n",
      "Entrenando modelo 2 con average pooling y tamaño (2, 2)\n",
      "\n",
      "Entrenando modelo 3 con L2 pooling y tamaño (2, 2)\n",
      "WARNING:tensorflow:From c:\\Users\\Manuel Sanchez\\Desktop\\ANDES\\MODELOS AVANZADOS PARA ANALISIS DE DATOS II\\modelos_avanzados_deep_learning\\venv\\lib\\site-packages\\keras\\src\\legacy\\backend.py:1128: The name tf.nn.avg_pool is deprecated. Please use tf.nn.avg_pool2d instead.\n",
      "\n",
      "Pooling: max, Tamaño: (2, 2) -> Pérdida: 0.0589, Precisión: 98.18%\n",
      "Pooling: average, Tamaño: (2, 2) -> Pérdida: 0.0702, Precisión: 97.75%\n",
      "Pooling: L2, Tamaño: (2, 2) -> Pérdida: 2.3010, Precisión: 11.35%\n"
     ]
    }
   ],
   "source": [
    "from tensorflow.keras import layers, models\n",
    "from tensorflow import keras\n",
    "\n",
    "# Función para crear el modelo con configuraciones de pooling\n",
    "def create_model(pooling_type=\"max\", pool_size=(2, 2)):\n",
    "    inputs = keras.Input(shape=(28, 28, 1))\n",
    "    x = layers.Conv2D(filters=64, kernel_size=3, activation=\"relu\")(inputs)\n",
    "    \n",
    "    # Aplicación de pooling según el tipo seleccionado\n",
    "    if pooling_type == \"max\":\n",
    "        x = layers.MaxPooling2D(pool_size=pool_size)(x)\n",
    "    elif pooling_type == \"average\":\n",
    "        x = layers.AveragePooling2D(pool_size=pool_size)(x)\n",
    "    elif pooling_type == \"L2\":\n",
    "        # L2 pooling usando reducción de dimensiones (Root Mean Square con reducción)\n",
    "        x = layers.Lambda(lambda x: keras.backend.sqrt(\n",
    "            keras.backend.pool2d(keras.backend.square(x), pool_size=pool_size, pool_mode='avg')\n",
    "        ))(x)\n",
    "    \n",
    "    # Segunda capa convolucional y pooling\n",
    "    x = layers.Conv2D(filters=64, kernel_size=3, activation=\"relu\")(x)\n",
    "    if pooling_type == \"max\":\n",
    "        x = layers.MaxPooling2D(pool_size=pool_size)(x)\n",
    "    elif pooling_type == \"average\":\n",
    "        x = layers.AveragePooling2D(pool_size=pool_size)(x)\n",
    "    elif pooling_type == \"L2\":\n",
    "        x = layers.Lambda(lambda x: keras.backend.sqrt(\n",
    "            keras.backend.pool2d(keras.backend.square(x), pool_size=pool_size, pool_mode='avg')\n",
    "        ))(x)\n",
    "    \n",
    "    # Tercera capa convolucional y pooling\n",
    "    x = layers.Conv2D(filters=64, kernel_size=1, activation=\"relu\")(x)\n",
    "    if pooling_type == \"max\":\n",
    "        x = layers.MaxPooling2D(pool_size=pool_size)(x)\n",
    "    elif pooling_type == \"average\":\n",
    "        x = layers.AveragePooling2D(pool_size=pool_size)(x)\n",
    "    elif pooling_type == \"L2\":\n",
    "        x = layers.Lambda(lambda x: keras.backend.sqrt(\n",
    "            keras.backend.pool2d(keras.backend.square(x), pool_size=pool_size, pool_mode='avg')\n",
    "        ))(x)\n",
    "    \n",
    "    # Capas densas y de salida\n",
    "    x = layers.Flatten()(x)\n",
    "    x = layers.Dense(64, activation='relu')(x)\n",
    "    x = layers.Dense(64, activation='relu')(x)\n",
    "    outputs = layers.Dense(10, activation=\"softmax\")(x)\n",
    "    \n",
    "    # Compilación del modelo\n",
    "    model = keras.Model(inputs=inputs, outputs=outputs)\n",
    "    model.compile(optimizer='adam', loss='sparse_categorical_crossentropy', metrics=['accuracy'])\n",
    "    return model\n",
    "\n",
    "# Configuración de variantes de pooling\n",
    "pooling_variants = [\n",
    "    {\"type\": \"max\", \"size\": (2, 2)},\n",
    "    {\"type\": \"average\", \"size\": (2, 2)},\n",
    "    {\"type\": \"L2\", \"size\": (2, 2)},\n",
    "]\n",
    "\n",
    "# Lista para almacenar resultados\n",
    "results = []\n",
    "\n",
    "# Entrenamiento y evaluación de cada variante\n",
    "for i, config in enumerate(pooling_variants):\n",
    "    print(f\"\\nEntrenando modelo {i+1} con {config['type']} pooling y tamaño {config['size']}\")\n",
    "    model = create_model(pooling_type=config['type'], pool_size=config['size'])\n",
    "    history = model.fit(train_images, train_labels, epochs=5, batch_size=32, validation_data=(test_images, test_labels), verbose=0)\n",
    "    test_loss, test_accuracy = model.evaluate(test_images, test_labels, verbose=0)\n",
    "    results.append({\"pooling_type\": config['type'], \"pool_size\": config['size'], \"loss\": test_loss, \"accuracy\": test_accuracy})\n",
    "\n",
    "# Mostrar resultados\n",
    "for result in results:\n",
    "    print(f\"Pooling: {result['pooling_type']}, Tamaño: {result['pool_size']} -> Pérdida: {result['loss']:.4f}, Precisión: {result['accuracy']*100:.2f}%\")\n"
   ]
  },
  {
   "cell_type": "markdown",
   "metadata": {},
   "source": [
    "Para este punto, trabajaremos con la misma arquitectura del punto anterior: tres capas convolucionales y dos capas densas. Sin embargo, en esta ocasión el número de filtros se fijará en 64 por capa, y lo que variará será el tipo de pooling utilizado para la reducción de dimensionalidad. Usaremos tres tipos de pooling:\n",
    "\n",
    "MaxPooling (Máximo): Este fue el método utilizado inicialmente.\n",
    "AveragePooling (Promedio): Calcula el promedio de los valores en la ventana de pooling.\n",
    "L2 Pooling: Como no existe una función explícita en Keras para este tipo de pooling, implementaremos una función personalizada para simularlo, aplicando la raíz cuadrada de la media de los valores al cuadrado en la ventana.\n",
    "Nota: Aunque no iteramos sobre el tamaño de la ventana en este experimento, incrementar el tamaño de la ventana reduce aún más la dimensionalidad de los datos. Sin embargo, un tamaño excesivo de la ventana podría afectar el rendimiento de la red, ya que puede eliminar demasiada información útil para el aprendizaje.\n",
    "\n",
    "A continuación, se muestran los resultados de precisión obtenidos con cada tipo de pooling:\n",
    "\n",
    "Modelo 1 (MaxPooling): Precisión 98.18%\n",
    "\n",
    "Modelo 2 (AveragePooling): Precisión 97.75%\n",
    "\n",
    "Modelo 3 (L2 Pooling): Precisión 11.35%\n",
    "\n",
    "Como podemos ver el calculo del L2 pooling no resulta muy util para ejercicio aunque el AVerage Poolling resulta tambien util."
   ]
  },
  {
   "cell_type": "markdown",
   "metadata": {},
   "source": [
    "## Parte II Construccion de una RNC usando los datos de CIFAR10.\n",
    "En un nuevo codigo main importamos las librer ́ıas necesarias y los datos:\n"
   ]
  },
  {
   "cell_type": "code",
   "execution_count": null,
   "metadata": {},
   "outputs": [],
   "source": [
    "import tensorflow as tf\n",
    "from tensorflow import keras\n",
    "from tensorflow.keras import layers\n",
    "from tensorflow.keras.datasets import cifar10\n",
    "\n",
    "(x_train , y_train), (x_test , y_test) = cifar10.load_data ()\n",
    "\n",
    "# convert float 32 to have better efficiency\n",
    "x_train = x_train.astype(\"float32\")/255.0\n",
    "x_test = x_test.astype(\"float32 \")/255.0\n"
   ]
  },
  {
   "cell_type": "markdown",
   "metadata": {},
   "source": [
    "a) Investigue y describa que es la base de datos CIFAR10."
   ]
  },
  {
   "cell_type": "markdown",
   "metadata": {},
   "source": []
  },
  {
   "cell_type": "markdown",
   "metadata": {},
   "source": [
    "b) Describa preliminarmente los datos que utilizara su red (distribuciones, posibles valores de sus variables, dimensiones, etc.).\n"
   ]
  },
  {
   "cell_type": "code",
   "execution_count": null,
   "metadata": {},
   "outputs": [],
   "source": []
  },
  {
   "cell_type": "markdown",
   "metadata": {},
   "source": [
    "c) Construya una red convolucional a su gusto. Entrene dicha red y evaluela con sus datos. Se recomienda que divida su conjunto de prueba en dos para calibrar sus hiperparametros. Utilice model.summary() para explorar su modelo con mas detalle.\n"
   ]
  },
  {
   "cell_type": "code",
   "execution_count": null,
   "metadata": {},
   "outputs": [],
   "source": []
  },
  {
   "cell_type": "markdown",
   "metadata": {},
   "source": [
    "d) Experimente con diferentes arquitecturas y describa sus mejores resultados.\n"
   ]
  },
  {
   "cell_type": "code",
   "execution_count": null,
   "metadata": {},
   "outputs": [],
   "source": []
  },
  {
   "cell_type": "markdown",
   "metadata": {},
   "source": [
    "e) Investigue sobre el parametro “padding” y sobre el “batch normalization” (que ocasionalmente se utiliza en lugar del pooling). Experimente con ambos y describa sus\n",
    "resultados.\n"
   ]
  }
 ],
 "metadata": {
  "kernelspec": {
   "display_name": "venv",
   "language": "python",
   "name": "python3"
  },
  "language_info": {
   "codemirror_mode": {
    "name": "ipython",
    "version": 3
   },
   "file_extension": ".py",
   "mimetype": "text/x-python",
   "name": "python",
   "nbconvert_exporter": "python",
   "pygments_lexer": "ipython3",
   "version": "3.10.14"
  }
 },
 "nbformat": 4,
 "nbformat_minor": 2
}
